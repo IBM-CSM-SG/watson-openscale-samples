{
 "cells": [
  {
   "cell_type": "markdown",
   "metadata": {},
   "source": [
    "<img src=\"https://github.com/pmservice/ai-openscale-tutorials/raw/master/notebooks/images/banner.png\" align=\"left\" alt=\"banner\">"
   ]
  },
  {
   "cell_type": "markdown",
   "metadata": {},
   "source": [
    "# Notebook: Migration for Integrated Systems\n",
    "\n",
    "\n",
    "Target Version: Cloud pak for Data greater than or equal to **v4.5.0**\n",
    "\n",
    "The user needs to provide the necessary inputs (where marked) to be able to proceed. \n",
    "\n",
    "**Note**: This notebook is designed to migrate some integrated systems which is created before Cloud pak for data 4.5.0. Without this procedure, you cannot have successful interaction with IBM OpenPages.\n",
    "\n",
    "\n",
    "**Contents:**\n",
    "1. [Package Installation](#Package-installation)\n",
    "2. [User Inputs](#User-Inputs)\n",
    "3. [Setting up Services](#Setting-up-Services)\n",
    "4. [Migrate Integrated Systems](#Migrate-Integrated-Systems)\n",
    "5. [Confirm the result](#Confirm-the-result)"
   ]
  },
  {
   "cell_type": "markdown",
   "metadata": {},
   "source": [
    "## Package installation"
   ]
  },
  {
   "cell_type": "code",
   "execution_count": null,
   "metadata": {},
   "outputs": [],
   "source": [
    "import warnings\n",
    "warnings.filterwarnings('ignore')\n",
    "!pip install --upgrade ibm-watson-openscale --no-cache | tail -n 1"
   ]
  },
  {
   "cell_type": "markdown",
   "metadata": {},
   "source": [
    "Action: restart the kernel if you executed above cell!"
   ]
  },
  {
   "cell_type": "markdown",
   "metadata": {},
   "source": [
    "## User Inputs\n",
    "\n",
    "The following inputs are required:\n",
    "\n",
    "1. **IBM_CPD_ENDPOINT:** The URL representing the IBM Cloud Pak for Data service endpoint.\n",
    "2. **IBM_CPD_USERNAME:** IBM Cloud Pak for Data username used to obtain a bearer token.\n",
    "3. **IBM_CPD_PASSWORD:** IBM Cloud Pak for Data password used to obtain a bearer token.\n",
    "4. **CPD_API_KEY:** IBM Cloud Pak for Data API Key used to obtain a bearer token."
   ]
  },
  {
   "cell_type": "code",
   "execution_count": null,
   "metadata": {},
   "outputs": [],
   "source": [
    "# IBM Cloud Pak for Data credentials\n",
    "IBM_CPD_ENDPOINT = \"<The URL representing the IBM Cloud Pak for Data service endpoint.>\"\n",
    "IBM_CPD_USERNAME = \"<IBM Cloud Pak for Data username used to obtain a bearer token.>\"\n",
    "IBM_CPD_PASSWORD = \"<IBM Cloud Pak for Data password used to obtain a bearer token.>\"\n",
    "SERVICE_INSTANCE_ID = \"<SERVICE_INSTANCE_ID>\" #Default is 00000000-0000-0000-0000-000000000000\n",
    "CPD_API_KEY =\"<API KEY>\" "
   ]
  },
  {
   "cell_type": "markdown",
   "metadata": {},
   "source": [
    "## Setting up Services"
   ]
  },
  {
   "cell_type": "code",
   "execution_count": null,
   "metadata": {},
   "outputs": [],
   "source": [
    "from ibm_cloud_sdk_core.authenticators import CloudPakForDataAuthenticator\n",
    "from ibm_watson_openscale import APIClient\n",
    "\n",
    "service_credentials = {\n",
    "                \"url\": IBM_CPD_ENDPOINT,\n",
    "                \"username\": IBM_CPD_USERNAME,\n",
    "                \"password\": IBM_CPD_PASSWORD,\n",
    "                # \"apikey\": CPD_API_KEY\n",
    "                }\n",
    "\n",
    "authenticator = CloudPakForDataAuthenticator(\n",
    "        url=service_credentials['url'],\n",
    "        username=service_credentials['username'],\n",
    "        password=service_credentials['password'],\n",
    "        # apikey=service_credentials['apikey'],\n",
    "        disable_ssl_verification=True\n",
    ")\n",
    "\n",
    "client = APIClient(\n",
    "    service_url=service_credentials['url'],\n",
    "    service_instance_id=SERVICE_INSTANCE_ID,\n",
    "    authenticator=authenticator\n",
    ")\n",
    "\n",
    "print(client.version)"
   ]
  },
  {
   "cell_type": "code",
   "execution_count": null,
   "metadata": {
    "scrolled": true
   },
   "outputs": [],
   "source": [
    "# function for generatin \n",
    "def generate_headers():\n",
    "    return {\n",
    "        **authenticator.token_manager.headers,\n",
    "        \"Authorization\": \"Bearer {}\".format(client.authenticator.token_manager.bearer_token)\n",
    "    }\n",
    "generate_headers()"
   ]
  },
  {
   "cell_type": "markdown",
   "metadata": {},
   "source": [
    "## Migrate Integrated Systems"
   ]
  },
  {
   "cell_type": "code",
   "execution_count": null,
   "metadata": {
    "scrolled": false
   },
   "outputs": [],
   "source": [
    "URL = \"{}/openscale/{}/v2prv/refresh_vertices?type=integrated_system\".format(\n",
    "    service_credentials[\"url\"],\n",
    "    SERVICE_INSTANCE_ID\n",
    ")\n",
    "res = client.http_client.post(url=URL, headers=generate_headers())\n",
    "res.status_code "
   ]
  },
  {
   "cell_type": "markdown",
   "metadata": {},
   "source": [
    "# Confirm the result"
   ]
  },
  {
   "cell_type": "code",
   "execution_count": null,
   "metadata": {
    "scrolled": true
   },
   "outputs": [],
   "source": [
    "pr = client.prepare_request(\"GET\", \"/v2/integrated_systems?type=open_pages\")\n",
    "client.send(pr).result"
   ]
  },
  {
   "cell_type": "markdown",
   "metadata": {},
   "source": [
    "If you can see a list of OpenPages which is already integrated in OpenScale instance, it should be fine."
   ]
  }
 ],
 "metadata": {
  "kernelspec": {
   "display_name": "Python 3 (ipykernel)",
   "language": "python",
   "name": "python3"
  },
  "language_info": {
   "codemirror_mode": {
    "name": "ipython",
    "version": 3
   },
   "file_extension": ".py",
   "mimetype": "text/x-python",
   "name": "python",
   "nbconvert_exporter": "python",
   "pygments_lexer": "ipython3",
   "version": "3.9.1"
  }
 },
 "nbformat": 4,
 "nbformat_minor": 2
}
