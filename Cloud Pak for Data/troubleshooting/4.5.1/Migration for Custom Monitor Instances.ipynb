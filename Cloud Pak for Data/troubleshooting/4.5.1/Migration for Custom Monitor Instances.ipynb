{
 "cells": [
  {
   "cell_type": "markdown",
   "metadata": {},
   "source": [
    "<img src=\"https://github.com/pmservice/ai-openscale-tutorials/raw/master/notebooks/images/banner.png\" align=\"left\" alt=\"banner\">"
   ]
  },
  {
   "cell_type": "markdown",
   "metadata": {},
   "source": [
    "# Notebook: Migration for Custom Monitor Insntaces\n",
    "\n",
    "\n",
    "Target Version: Cloud pak for Data **v4.5.1**\n",
    "\n",
    "The user needs to provide the necessary inputs (where marked) to be able to proceed. \n",
    "\n",
    "**Note**: This notebook is designed to migrate some monitor instaces which is created before Cloud pak for data 4.5.0. Without this procedure, you cannot have successful evaluation for custom monitor in model risk management screen.\n",
    "\n",
    "**Contents:**\n",
    "1. [Package Installation](#Package-installation)\n",
    "2. [User Inputs](#User-Inputs)\n",
    "3. [Setting up Services](#Setting-up-Services)\n",
    "4. [Collect resources to be migrated](#Collect-resources-to-be-migrated)\n",
    "5. [Migrate monitor instances](#Migrate-monitor-instances)\n",
    "6. [Confirm the result](#Confirm-the-result)"
   ]
  },
  {
   "cell_type": "markdown",
   "metadata": {},
   "source": [
    "## Package installation"
   ]
  },
  {
   "cell_type": "code",
   "execution_count": null,
   "metadata": {},
   "outputs": [],
   "source": [
    "import warnings\n",
    "warnings.filterwarnings('ignore')\n",
    "!pip install --upgrade ibm-watson-openscale --no-cache | tail -n 1"
   ]
  },
  {
   "cell_type": "markdown",
   "metadata": {},
   "source": [
    "Action: restart the kernel if you executed above cell!"
   ]
  },
  {
   "cell_type": "markdown",
   "metadata": {},
   "source": [
    "## User Inputs\n",
    "\n",
    "The following inputs are required:\n",
    "\n",
    "1. **IBM_CPD_ENDPOINT:** The URL representing the IBM Cloud Pak for Data service endpoint.\n",
    "2. **IBM_CPD_USERNAME:** IBM Cloud Pak for Data username used to obtain a bearer token.\n",
    "3. **IBM_CPD_PASSWORD:** IBM Cloud Pak for Data password used to obtain a bearer token.\n",
    "4. **CPD_API_KEY:** IBM Cloud Pak for Data API Key used to obtain a bearer token."
   ]
  },
  {
   "cell_type": "code",
   "execution_count": null,
   "metadata": {},
   "outputs": [],
   "source": [
    "# IBM Cloud Pak for Data credentials\n",
    "IBM_CPD_ENDPOINT = \"<The URL representing the IBM Cloud Pak for Data service endpoint.>\"\n",
    "IBM_CPD_USERNAME = \"<IBM Cloud Pak for Data username used to obtain a bearer token.>\"\n",
    "IBM_CPD_PASSWORD = \"<IBM Cloud Pak for Data password used to obtain a bearer token.>\"\n",
    "SERVICE_INSTANCE_ID = \"<SERVICE_INSTANCE_ID>\" #Default is 00000000-0000-0000-0000-000000000000\n",
    "CPD_API_KEY =\"<API KEY>\" "
   ]
  },
  {
   "cell_type": "markdown",
   "metadata": {},
   "source": [
    "## Setting up Services"
   ]
  },
  {
   "cell_type": "code",
   "execution_count": null,
   "metadata": {},
   "outputs": [],
   "source": [
    "from ibm_cloud_sdk_core.authenticators import CloudPakForDataAuthenticator\n",
    "from ibm_watson_openscale import APIClient\n",
    "\n",
    "service_credentials = {\n",
    "                \"url\": IBM_CPD_ENDPOINT,\n",
    "                \"username\": IBM_CPD_USERNAME,\n",
    "                \"password\": IBM_CPD_PASSWORD,\n",
    "                # \"apikey\": CPD_API_KEY\n",
    "                }\n",
    "\n",
    "authenticator = CloudPakForDataAuthenticator(\n",
    "        url=service_credentials['url'],\n",
    "        username=service_credentials['username'],\n",
    "        password=service_credentials['password'],\n",
    "        # apikey=service_credentials['apikey'],\n",
    "        disable_ssl_verification=True\n",
    ")\n",
    "\n",
    "client = APIClient(\n",
    "    service_url=service_credentials['url'],\n",
    "    service_instance_id=SERVICE_INSTANCE_ID,\n",
    "    authenticator=authenticator\n",
    ")\n",
    "\n",
    "print(client.version)"
   ]
  },
  {
   "cell_type": "code",
   "execution_count": null,
   "metadata": {},
   "outputs": [],
   "source": [
    "OOTB_DEFINITONS = [\n",
    "    'assurance',\n",
    "    'fairness',\n",
    "    'performance',\n",
    "    'explainability',\n",
    "    'mrm',\n",
    "    'correlations',\n",
    "    'drift',\n",
    "    'quality'\n",
    "]\n",
    "\n",
    "PATCH_DOCUMENT = [\n",
    "    {\n",
    "        \"op\": \"remove\",\n",
    "        \"path\": \"/schedule\"\n",
    "    },\n",
    "    {\n",
    "        \"op\": \"remove\",\n",
    "        \"path\": \"/schedule_id\"\n",
    "    }\n",
    "]"
   ]
  },
  {
   "cell_type": "markdown",
   "metadata": {},
   "source": [
    "## Collect resources to be migrated"
   ]
  },
  {
   "cell_type": "code",
   "execution_count": null,
   "metadata": {},
   "outputs": [],
   "source": [
    "# Explore custom monitor definitions which should not have schedule\n",
    "definitions = client.monitor_definitions.list().result\n",
    "custom_monitor_def_ids = [\n",
    "    i.metadata.id for i in definitions.monitor_definitions if (not i.metadata.id in OOTB_DEFINITONS) and (not \"monitor_runtime\" in i.entity.to_dict())\n",
    "]\n",
    "print(custom_monitor_def_ids)"
   ]
  },
  {
   "cell_type": "code",
   "execution_count": null,
   "metadata": {},
   "outputs": [],
   "source": [
    "# Collect monitor instances to be patched\n",
    "monitor_instances_to_be_patched = client.monitor_instances.list(\n",
    "    monitor_definition_id=\",\".join(custom_monitor_def_ids),\n",
    "    target_target_type=\"subscription\"\n",
    ").result.monitor_instances\n",
    "\n",
    "print(\"The count of patched monitor instances is {}\".format(len(monitor_instances_to_be_patched)))\n",
    "\n",
    "for i in monitor_instances_to_be_patched:\n",
    "    print(\"definition id: {}, monitor instance id: {}\".format(i.entity.monitor_definition_id, i.metadata.id))\n",
    "    print(\"schedule id: {}, schedule: {}\".format(i.entity.schedule_id, i.entity.schedule))"
   ]
  },
  {
   "cell_type": "markdown",
   "metadata": {},
   "source": [
    "## Migrate monitor instances"
   ]
  },
  {
   "cell_type": "code",
   "execution_count": null,
   "metadata": {},
   "outputs": [],
   "source": [
    "for mi in monitor_instances_to_be_patched:\n",
    "    client.monitor_instances.update(\n",
    "        monitor_instance_id=mi.metadata.id,\n",
    "        patch_document=PATCH_DOCUMENT\n",
    "    )"
   ]
  },
  {
   "cell_type": "markdown",
   "metadata": {},
   "source": [
    "## Confirm the result "
   ]
  },
  {
   "cell_type": "code",
   "execution_count": null,
   "metadata": {},
   "outputs": [],
   "source": [
    "# Confirm whether schedule and its id are deleted properly\n",
    "monitor_instances_to_be_patched = client.monitor_instances.list(\n",
    "    monitor_definition_id=\",\".join(custom_monitor_def_ids),\n",
    "    target_target_type=\"subscription\"\n",
    ").result.monitor_instances\n",
    "\n",
    "print(\"The count of patched monitor instances is {}\".format(len(monitor_instances_to_be_patched)))\n",
    "\n",
    "for i in monitor_instances_to_be_patched:\n",
    "    print(\"definition id: {}, monitor instance id: {}\".format(i.entity.monitor_definition_id, i.metadata.id))\n",
    "    print(\"schedule id: {}, schedule: {}\".format(i.entity.schedule_id, i.entity.schedule))\n",
    "# Expected print will be: \n",
    "    # definition id: <some custom monitor id>, monitor instance id: <some guid for monitor instance>\n",
    "    # schedule id: None, schedule: None    "
   ]
  }
 ],
 "metadata": {
  "kernelspec": {
   "display_name": "Python 3 (ipykernel)",
   "language": "python",
   "name": "python3"
  },
  "language_info": {
   "codemirror_mode": {
    "name": "ipython",
    "version": 3
   },
   "file_extension": ".py",
   "mimetype": "text/x-python",
   "name": "python",
   "nbconvert_exporter": "python",
   "pygments_lexer": "ipython3",
   "version": "3.9.1"
  },
  "vscode": {
   "interpreter": {
    "hash": "87873e26c6638d35b8f5ba724ba454077d28b9b24cde2f39ff3b644edadfdf1f"
   }
  }
 },
 "nbformat": 4,
 "nbformat_minor": 2
}
