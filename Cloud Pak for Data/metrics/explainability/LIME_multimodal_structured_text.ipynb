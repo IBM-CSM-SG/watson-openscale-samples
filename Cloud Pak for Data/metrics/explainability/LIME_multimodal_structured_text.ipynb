{
 "cells": [
  {
   "cell_type": "markdown",
   "id": "3a2ee751-ad18-40f4-b972-10f1a4b8edf2",
   "metadata": {},
   "source": [
    "# Explainability using LIME enhanced for multimodal (structured, text) binary classification model"
   ]
  },
  {
   "cell_type": "markdown",
   "id": "156adb30-8526-40a3-9212-bb74d2853e4a",
   "metadata": {},
   "source": [
    "The notebook will train Car rental model, generate local using LIME enhanced explainer and provide insights into model behaviour.\n",
    "\n",
    "### Contents\n",
    "- [Setup](#Setup)\n",
    "- [Model building and evaluation](#model)\n",
    "- [OpenScale configuration](#openscale)\n",
    "- [Compute LIME explanations](#lime)\n",
    "\n",
    "**Note:** This notebook requires service credentials of Watson OpenScale."
   ]
  },
  {
   "cell_type": "markdown",
   "id": "0bbda733-8df0-406e-9daa-b39eda7c04b0",
   "metadata": {},
   "source": [
    "## Setup\n",
    "\n",
    "### Package Installation"
   ]
  },
  {
   "cell_type": "code",
   "execution_count": null,
   "id": "888cfd4c-6591-4809-9d16-9e1db5a73c84",
   "metadata": {},
   "outputs": [],
   "source": [
    "!pip install --upgrade ibm-watson-openscale --no-cache | tail -n 1\n",
    "!pip install --upgrade ibm-metrics-plugin --no-cache | tail -n 1\n",
    "!pip install matplotlib\n",
    "!pip install numpy==1.23.5"
   ]
  },
  {
   "cell_type": "markdown",
   "id": "515183a1-9b7d-4b58-98ec-d3306db9152f",
   "metadata": {},
   "source": [
    "**Action: Restart the kernel!**"
   ]
  },
  {
   "cell_type": "markdown",
   "id": "4cdc8c3f-6b17-4bf5-97f6-f717ab5c7cb5",
   "metadata": {},
   "source": [
    "### Configure Credentials"
   ]
  },
  {
   "cell_type": "code",
   "execution_count": 1,
   "id": "fd6d36b6-19cb-475a-9838-1a9eee4ed946",
   "metadata": {
    "tags": []
   },
   "outputs": [],
   "source": [
    "import warnings\n",
    "warnings.filterwarnings(\"ignore\")"
   ]
  },
  {
   "cell_type": "markdown",
   "id": "f84c3025-bce3-4f93-b0e4-929445441f1f",
   "metadata": {},
   "source": [
    "Provide your IBM Watson OpenScale credentials in the following cell:"
   ]
  },
  {
   "cell_type": "code",
   "execution_count": 2,
   "id": "50653c55-fb52-4e95-98d0-0d2591ed7bf4",
   "metadata": {},
   "outputs": [],
   "source": [
    "WOS_CREDENTIALS = {\n",
    "    \"url\": \"\",\n",
    "    \"username\": \"\",\n",
    "    \"password\": \"\",\n",
    "    \"instance_id\": \"\"\n",
    "}"
   ]
  },
  {
   "cell_type": "markdown",
   "id": "943ce456-76cd-46e9-b4ff-9963d9e59fce",
   "metadata": {},
   "source": [
    "## Model building and evaluation <a name=\"model\"></a>"
   ]
  },
  {
   "cell_type": "markdown",
   "id": "52f16590-fdbc-4e80-8cd3-0ddacb280c8d",
   "metadata": {},
   "source": [
    "In this section you will learn how to train Scikit-learn model, run prediction and evaluate its output."
   ]
  },
  {
   "cell_type": "markdown",
   "id": "1ecfc0d2-923b-42b8-912d-7a37fbd8d131",
   "metadata": {},
   "source": [
    "### Load the training data from github"
   ]
  },
  {
   "cell_type": "code",
   "execution_count": null,
   "id": "23bed9ed-a00b-46bd-9cd0-46d163dcba25",
   "metadata": {},
   "outputs": [],
   "source": [
    "!rm car_rental_training_data.csv\n",
    "!wget https://github.com/IBM/watson-machine-learning-samples/raw/4d7a8344c79c8c7ffbc937497882f67f3e22a79b/cloud/data/cars-4-you/car_rental_training_data.csv -O car_rental_training_data.csv"
   ]
  },
  {
   "cell_type": "code",
   "execution_count": 4,
   "id": "0d162f43-08b6-4b06-b929-6420078acfb9",
   "metadata": {},
   "outputs": [],
   "source": [
    "import numpy as np\n",
    "import pandas as pd\n",
    "\n",
    "training_data_file_name = \"car_rental_training_data.csv\"\n",
    "data_df = pd.read_csv(training_data_file_name, delimiter=\";\")"
   ]
  },
  {
   "cell_type": "markdown",
   "id": "6db73f16-81e9-447c-a13a-1f001cedfae9",
   "metadata": {},
   "source": [
    "### Explore data"
   ]
  },
  {
   "cell_type": "code",
   "execution_count": 5,
   "id": "cee54e49-f80e-4601-bdfe-2e8c9d62a4ab",
   "metadata": {},
   "outputs": [
    {
     "data": {
      "text/html": [
       "<div>\n",
       "<style scoped>\n",
       "    .dataframe tbody tr th:only-of-type {\n",
       "        vertical-align: middle;\n",
       "    }\n",
       "\n",
       "    .dataframe tbody tr th {\n",
       "        vertical-align: top;\n",
       "    }\n",
       "\n",
       "    .dataframe thead th {\n",
       "        text-align: right;\n",
       "    }\n",
       "</style>\n",
       "<table border=\"1\" class=\"dataframe\">\n",
       "  <thead>\n",
       "    <tr style=\"text-align: right;\">\n",
       "      <th></th>\n",
       "      <th>Gender</th>\n",
       "      <th>Status</th>\n",
       "      <th>Children</th>\n",
       "      <th>Age</th>\n",
       "      <th>Customer_Status</th>\n",
       "      <th>Car_Owner</th>\n",
       "      <th>Customer_Service</th>\n",
       "      <th>Satisfaction</th>\n",
       "      <th>Business_Area</th>\n",
       "    </tr>\n",
       "  </thead>\n",
       "  <tbody>\n",
       "    <tr>\n",
       "      <th>0</th>\n",
       "      <td>Female</td>\n",
       "      <td>M</td>\n",
       "      <td>2</td>\n",
       "      <td>48.85</td>\n",
       "      <td>Inactive</td>\n",
       "      <td>Yes</td>\n",
       "      <td>I thought the representative handled the initi...</td>\n",
       "      <td>0</td>\n",
       "      <td>Product: Availability/Variety/Size</td>\n",
       "    </tr>\n",
       "    <tr>\n",
       "      <th>1</th>\n",
       "      <td>Female</td>\n",
       "      <td>M</td>\n",
       "      <td>0</td>\n",
       "      <td>55.00</td>\n",
       "      <td>Inactive</td>\n",
       "      <td>No</td>\n",
       "      <td>I have had a few recent rentals that have take...</td>\n",
       "      <td>0</td>\n",
       "      <td>Product: Availability/Variety/Size</td>\n",
       "    </tr>\n",
       "    <tr>\n",
       "      <th>2</th>\n",
       "      <td>Male</td>\n",
       "      <td>M</td>\n",
       "      <td>0</td>\n",
       "      <td>42.35</td>\n",
       "      <td>Inactive</td>\n",
       "      <td>Yes</td>\n",
       "      <td>car cost more because I didn't pay when I rese...</td>\n",
       "      <td>0</td>\n",
       "      <td>Product: Availability/Variety/Size</td>\n",
       "    </tr>\n",
       "    <tr>\n",
       "      <th>3</th>\n",
       "      <td>Male</td>\n",
       "      <td>M</td>\n",
       "      <td>2</td>\n",
       "      <td>61.71</td>\n",
       "      <td>Inactive</td>\n",
       "      <td>Yes</td>\n",
       "      <td>I didn't get the car I was told would be avail...</td>\n",
       "      <td>0</td>\n",
       "      <td>Product: Availability/Variety/Size</td>\n",
       "    </tr>\n",
       "    <tr>\n",
       "      <th>4</th>\n",
       "      <td>Male</td>\n",
       "      <td>S</td>\n",
       "      <td>2</td>\n",
       "      <td>56.47</td>\n",
       "      <td>Active</td>\n",
       "      <td>No</td>\n",
       "      <td>If there was not a desired vehicle available t...</td>\n",
       "      <td>1</td>\n",
       "      <td>Product: Availability/Variety/Size</td>\n",
       "    </tr>\n",
       "  </tbody>\n",
       "</table>\n",
       "</div>"
      ],
      "text/plain": [
       "   Gender Status  Children    Age Customer_Status Car_Owner  \\\n",
       "0  Female      M         2  48.85        Inactive       Yes   \n",
       "1  Female      M         0  55.00        Inactive        No   \n",
       "2    Male      M         0  42.35        Inactive       Yes   \n",
       "3    Male      M         2  61.71        Inactive       Yes   \n",
       "4    Male      S         2  56.47          Active        No   \n",
       "\n",
       "                                    Customer_Service  Satisfaction  \\\n",
       "0  I thought the representative handled the initi...             0   \n",
       "1  I have had a few recent rentals that have take...             0   \n",
       "2  car cost more because I didn't pay when I rese...             0   \n",
       "3  I didn't get the car I was told would be avail...             0   \n",
       "4  If there was not a desired vehicle available t...             1   \n",
       "\n",
       "                        Business_Area  \n",
       "0  Product: Availability/Variety/Size  \n",
       "1  Product: Availability/Variety/Size  \n",
       "2  Product: Availability/Variety/Size  \n",
       "3  Product: Availability/Variety/Size  \n",
       "4  Product: Availability/Variety/Size  "
      ]
     },
     "execution_count": 5,
     "metadata": {},
     "output_type": "execute_result"
    }
   ],
   "source": [
    "data_df.drop([\"ID\", \"Action\"], axis=1, inplace=True)\n",
    "data_df.head()"
   ]
  },
  {
   "cell_type": "code",
   "execution_count": 6,
   "id": "28072d3b-0689-4635-970b-ff8ead2ceda0",
   "metadata": {},
   "outputs": [
    {
     "name": "stdout",
     "output_type": "stream",
     "text": [
      "Columns:  ['Gender', 'Status', 'Children', 'Age', 'Customer_Status', 'Car_Owner', 'Customer_Service', 'Satisfaction', 'Business_Area']\n",
      "Number of columns:  9\n"
     ]
    }
   ],
   "source": [
    "print(\"Columns: \", list(data_df.columns))\n",
    "print(\"Number of columns: \", len(data_df.columns))"
   ]
  },
  {
   "cell_type": "markdown",
   "id": "23125f78-81a7-4b94-ae1c-9424f2d368f6",
   "metadata": {},
   "source": [
    "Satisfaction field is the one we would like to predict."
   ]
  },
  {
   "cell_type": "code",
   "execution_count": 7,
   "id": "f3cf69b9-6b7f-4525-a564-2203746fac34",
   "metadata": {},
   "outputs": [
    {
     "name": "stdout",
     "output_type": "stream",
     "text": [
      "Number of records:  486\n"
     ]
    }
   ],
   "source": [
    "print(\"Number of records: \", data_df.Satisfaction.count())"
   ]
  },
  {
   "cell_type": "code",
   "execution_count": 8,
   "id": "89ec0e49-2685-46a0-880f-3196b2eec3fe",
   "metadata": {},
   "outputs": [
    {
     "data": {
      "text/plain": [
       "Satisfaction\n",
       "0    212\n",
       "1    274\n",
       "Name: Satisfaction, dtype: int64"
      ]
     },
     "execution_count": 8,
     "metadata": {},
     "output_type": "execute_result"
    }
   ],
   "source": [
    "target_count = data_df.groupby(\"Satisfaction\")[\"Satisfaction\"].count()\n",
    "target_count"
   ]
  },
  {
   "cell_type": "markdown",
   "id": "02f6ed70-3c57-46e0-8189-8f81f2226fe8",
   "metadata": {},
   "source": [
    "### Create a model\n",
    "\n",
    "In this section you will learn how to:\n",
    "\n",
    "- Prepare data for training a model\n",
    "- Create machine learning pipeline\n",
    "- Train a model\n",
    "- Evaluate a model"
   ]
  },
  {
   "cell_type": "markdown",
   "id": "31cf9f2b-5618-4651-9aa1-6a5857a7fb44",
   "metadata": {},
   "source": [
    "#### Import required libraries"
   ]
  },
  {
   "cell_type": "code",
   "execution_count": 9,
   "id": "e140e3a7-5d9c-46d5-be3d-340376c1d42c",
   "metadata": {},
   "outputs": [],
   "source": [
    "from sklearn.ensemble import RandomForestClassifier\n",
    "from sklearn.preprocessing import OneHotEncoder, StandardScaler\n",
    "from sklearn.compose import ColumnTransformer\n",
    "from sklearn.pipeline import Pipeline\n",
    "from sklearn.feature_extraction.text import CountVectorizer\n",
    "from sklearn.feature_extraction.text import TfidfTransformer\n",
    "from sklearn.model_selection import train_test_split"
   ]
  },
  {
   "cell_type": "markdown",
   "id": "418b830d-fc71-4429-8669-3e69b887d1c7",
   "metadata": {},
   "source": [
    "#### Splitting the data into train and test"
   ]
  },
  {
   "cell_type": "code",
   "execution_count": 10,
   "id": "373498fd-c1f6-4fa0-97d5-9bcb0d28eaa4",
   "metadata": {},
   "outputs": [],
   "source": [
    "label_column = \"Satisfaction\"\n",
    "features=list(data_df.columns)\n",
    "features.remove(label_column)\n",
    "X = data_df[features]\n",
    "y = data_df[\"Satisfaction\"]\n",
    "\n",
    "X_train, X_test, y_train, y_test = train_test_split(X, y, test_size=0.2, random_state=123)"
   ]
  },
  {
   "cell_type": "markdown",
   "id": "88b4b155-3a06-4748-8d25-c2f1c1eec235",
   "metadata": {},
   "source": [
    "#### Preparing the pipeline\n",
    "\n",
    "In this step you will create transformers for the numeric, categorical  and text features.\n",
    "\n",
    "A pipeline is created using the column transformer and the classifier object "
   ]
  },
  {
   "cell_type": "code",
   "execution_count": 11,
   "id": "4b47b11d-4a55-4c6a-b773-66eddf7a80cd",
   "metadata": {},
   "outputs": [],
   "source": [
    "text_features=[\"Customer_Service\"]\n",
    "categorical_features=[features[i] for i,x in enumerate([str(i) for i in X.dtypes]) if x == \"object\"]\n",
    "categorical_features.remove(text_features[0])\n",
    "numeric_features=[f for f in features if f not in categorical_features and f not in text_features]\n",
    "\n",
    "numeric_transformer = Pipeline(steps=[(\"scaler\", StandardScaler())])\n",
    "categorical_transformer = OneHotEncoder(handle_unknown=\"ignore\")\n",
    "text_transformer = Pipeline([(\"vect\", CountVectorizer(\n",
    "    lowercase=True, stop_words=\"english\")), (\"tfidf\", TfidfTransformer())])\n",
    "ct = ColumnTransformer(transformers=[(\"num\", numeric_transformer, numeric_features),\n",
    "                                       (\"cat\", categorical_transformer, categorical_features)] +\n",
    "                                      [(\"text\"+f, text_transformer, f)for f in text_features],\n",
    "                                        remainder=\"drop\", n_jobs=-1)"
   ]
  },
  {
   "cell_type": "code",
   "execution_count": 12,
   "id": "1ba1e1ac-c0eb-41ee-8a0f-d9f7a3eed5cd",
   "metadata": {},
   "outputs": [],
   "source": [
    "model=RandomForestClassifier(n_estimators=100, random_state=1)\n",
    "pipeline = Pipeline([(\"ct\", ct), (\"clf\", model)])"
   ]
  },
  {
   "cell_type": "markdown",
   "id": "863ce65a-c658-491e-9f89-e97e5e5dbd25",
   "metadata": {},
   "source": [
    "#### Train a model"
   ]
  },
  {
   "cell_type": "code",
   "execution_count": 13,
   "id": "44bc4f22-bbc1-4f09-abd8-1cf8197854ef",
   "metadata": {},
   "outputs": [],
   "source": [
    "pipeline = pipeline.fit(X_train, y_train)"
   ]
  },
  {
   "cell_type": "markdown",
   "id": "8c41912f-0312-48ff-91db-aee9ea41d6fd",
   "metadata": {},
   "source": [
    "#### Evaluate the model"
   ]
  },
  {
   "cell_type": "code",
   "execution_count": 14,
   "id": "f98e6172-8861-4631-b9ab-4a50359c4ee0",
   "metadata": {},
   "outputs": [
    {
     "data": {
      "text/plain": [
       "0.9387755102040817"
      ]
     },
     "execution_count": 14,
     "metadata": {},
     "output_type": "execute_result"
    }
   ],
   "source": [
    "from sklearn.metrics import accuracy_score\n",
    "accuracy_score(y_test, pipeline.predict(X_test))"
   ]
  },
  {
   "cell_type": "markdown",
   "id": "5073e8b9-8346-4a8d-8a6f-0df9585dd8e8",
   "metadata": {},
   "source": [
    "## Openscale Configuration <a name=\"openscale\"></a>"
   ]
  },
  {
   "cell_type": "markdown",
   "id": "83f4da8e-419c-4baa-910f-048fe260d26a",
   "metadata": {},
   "source": [
    "Import the necessary libraries and set up OpenScale Python client."
   ]
  },
  {
   "cell_type": "code",
   "execution_count": 15,
   "id": "e4d5f6c4-341c-4106-b2e2-5b75bb29fee3",
   "metadata": {},
   "outputs": [
    {
     "data": {
      "text/plain": [
       "'3.0.34'"
      ]
     },
     "execution_count": 15,
     "metadata": {},
     "output_type": "execute_result"
    }
   ],
   "source": [
    "from ibm_watson_openscale import APIClient as OpenScaleAPIClient\n",
    "from ibm_cloud_sdk_core.authenticators import CloudPakForDataAuthenticator\n",
    "\n",
    "authenticator = CloudPakForDataAuthenticator(\n",
    "    url=WOS_CREDENTIALS[\"url\"],\n",
    "    username=WOS_CREDENTIALS[\"username\"],\n",
    "    password=WOS_CREDENTIALS[\"password\"],\n",
    "    disable_ssl_verification=True\n",
    ")\n",
    "\n",
    "client = OpenScaleAPIClient(\n",
    "    service_url=WOS_CREDENTIALS[\"url\"],\n",
    "    service_instance_id=WOS_CREDENTIALS[\"instance_id\"],\n",
    "    authenticator=authenticator\n",
    ")\n",
    "\n",
    "#Uncomment below lines if needed to initialize cloud using cloud apikey\n",
    "#authenticator = IAMAuthenticator(apikey=\"\")\n",
    "#client = APIClient(authenticator=authenticator)\n",
    "#client.version\n",
    "\n",
    "client.version"
   ]
  },
  {
   "cell_type": "markdown",
   "id": "51829491-7f15-453c-9aa8-9af0fa7f8e35",
   "metadata": {},
   "source": [
    "## Compute LIME explanations <a name=\"shap\"></a>"
   ]
  },
  {
   "cell_type": "markdown",
   "id": "687c5fec-9ca3-488d-b66a-9a3f4dc6d121",
   "metadata": {},
   "source": [
    "SHAP (SHapley Additive exPlanations) is a game theoretic approach to explain the output of any machine learning model. It connects optimal credit allocation with local explanations using the classic Shapley values from game theory and their related extensions. See [paper](http://papers.nips.cc/paper/7062-a-unified-approach-to-interpreting-model-predictions) for technical details of the algorithm.\n",
    "\n",
    "The Shapley value is the average marginal contribution of a feature value across all possible feature coalitions.\n",
    "\n",
    "SHAP assigns each feature an importance value for a particular prediction which is called SHAP value. The SHAP values of all the input features will always sum up to the difference between baseline (expected) model output and the current model output for the prediction being explained."
   ]
  },
  {
   "cell_type": "markdown",
   "id": "572481d5-013a-4fac-a031-dab49befa394",
   "metadata": {},
   "source": [
    "### Prepare input to compute LIME explanations"
   ]
  },
  {
   "attachments": {},
   "cell_type": "markdown",
   "id": "0e3cfce0-8470-44e5-99f1-909f6bd2e667",
   "metadata": {},
   "source": [
    "#### Create configuration for computing the LIME metric\n",
    "\n",
    "Set the below properties in the configuration\n",
    "\n",
    "- **problem_type** : The model problem type. Possible values are 'binary', 'multiclass', 'regression'\n",
    "- **input_data_type**: The input data type. Supported value is 'structured'\n",
    "- **feature_columns**: The list of feature columns\n",
    "- **categorical_columns**: The list of categorical columns\n",
    "- **text_columns**: The list of text columns\n",
    "- **explainability**: The expainability metrics configuration\n",
    "\n",
    "Generate explainability training statistics"
   ]
  },
  {
   "cell_type": "code",
   "execution_count": 16,
   "id": "d6675197-44f4-4f1d-be85-6fb6356662e4",
   "metadata": {},
   "outputs": [],
   "source": [
    "from ibm_metrics_plugin.common.utils.constants import ExplainabilityMetricType, ProblemType, InputDataType, MetricGroupType\n",
    "from ibm_metrics_plugin.metrics.explainability.entity.training_stats import TrainingStats\n",
    "\n",
    "training_data_info = {\n",
    "    \"problem_type\": ProblemType.BINARY.value,\n",
    "    \"feature_columns\": features,\n",
    "    \"categorical_columns\": categorical_features,\n",
    "    \"text_columns\": text_features,\n",
    "    \"label_column\": label_column,\n",
    "}\n",
    "\n",
    "training_stats = TrainingStats(data_df, training_data_info).get_explanability_statistics()"
   ]
  },
  {
   "cell_type": "markdown",
   "id": "d7c1bb0d-6e57-4c4b-8a25-59deb5f3651e",
   "metadata": {},
   "source": [
    "Optional parameters for lime explainer\n",
    "- **features_count**: The number of features to be returned in the explanation. Default value is 10.\n",
    "- **perturbations_count**: The count of perturbations to use. By default 5000 perturbations will be generated and scored while generating explanation."
   ]
  },
  {
   "cell_type": "code",
   "execution_count": 65,
   "id": "5fc84bf9-8b86-4939-a4cf-1b7228449346",
   "metadata": {},
   "outputs": [],
   "source": [
    "configuration={\n",
    "    \"configuration\": {\n",
    "        \"problem_type\": ProblemType.BINARY.value,\n",
    "        \"input_data_type\": InputDataType.MULTIMODAL.value,\n",
    "        \"feature_columns\": features,\n",
    "        \"categorical_columns\": categorical_features,\n",
    "        \"text_columns\": text_features,\n",
    "        \"label_column\": label_column,\n",
    "        MetricGroupType.EXPLAINABILITY.value : {\n",
    "            \"metrics_configuration\": {\n",
    "                ExplainabilityMetricType.LIME.value : {\n",
    "                    #\"features_count\": 10,\n",
    "                    #\"perturbations_count\": 5000\n",
    "                }\n",
    "            },\n",
    "             \"training_statistics\": training_stats\n",
    "        }\n",
    "    }\n",
    "}"
   ]
  },
  {
   "attachments": {},
   "cell_type": "markdown",
   "id": "fa20d3df-a4a1-4101-8e40-5b8ac3ae4de1",
   "metadata": {},
   "source": [
    "#### Define the scoring function\n",
    "\n",
    "The scoring function will be used to score against the model to get the probability and prediction values. The scoring function should take a pandas dataframe as input and return probability and prediction values.\n",
    "\n",
    "Note: For classification model, returning the prediction values is optional."
   ]
  },
  {
   "cell_type": "code",
   "execution_count": 66,
   "id": "690e55a2-4ccd-4588-a78a-4ede37059ae0",
   "metadata": {},
   "outputs": [],
   "source": [
    "def scoring_fn(data):\n",
    "    return pipeline.predict_proba(data), pipeline.predict(data)"
   ]
  },
  {
   "cell_type": "markdown",
   "id": "cbcee71d-db9d-4949-a3cb-aa8f49fa872d",
   "metadata": {},
   "source": [
    "### Compute explanations"
   ]
  },
  {
   "cell_type": "markdown",
   "id": "a1562507-ef6f-4631-8937-fd1ee98674aa",
   "metadata": {},
   "source": [
    "Compute the explanations for one datapoint in the test data. The test data could be a spark dataframe or pandas dataframe. Here we use a pandas dataframe."
   ]
  },
  {
   "cell_type": "code",
   "execution_count": 67,
   "id": "98153c16-0ddc-448d-bb01-e275609626b2",
   "metadata": {},
   "outputs": [],
   "source": [
    "metrics_result = client.ai_metrics.compute_metrics(configuration=configuration, \n",
    "                                                   data_frame=X_test.iloc[0:1], \n",
    "                                                   scoring_fn=scoring_fn)"
   ]
  },
  {
   "cell_type": "code",
   "execution_count": 68,
   "id": "9c1c3b05-c33e-475e-9ed6-5fdf13e56762",
   "metadata": {},
   "outputs": [
    {
     "name": "stdout",
     "output_type": "stream",
     "text": [
      "Explanation for prediction 1 is \n"
     ]
    },
    {
     "data": {
      "text/html": [
       "<div>\n",
       "<style scoped>\n",
       "    .dataframe tbody tr th:only-of-type {\n",
       "        vertical-align: middle;\n",
       "    }\n",
       "\n",
       "    .dataframe tbody tr th {\n",
       "        vertical-align: top;\n",
       "    }\n",
       "\n",
       "    .dataframe thead th {\n",
       "        text-align: right;\n",
       "    }\n",
       "</style>\n",
       "<table border=\"1\" class=\"dataframe\">\n",
       "  <thead>\n",
       "    <tr style=\"text-align: right;\">\n",
       "      <th></th>\n",
       "      <th>Feature name</th>\n",
       "      <th>Feature value</th>\n",
       "      <th>Importance</th>\n",
       "    </tr>\n",
       "  </thead>\n",
       "  <tbody>\n",
       "    <tr>\n",
       "      <th>0</th>\n",
       "      <td>Customer_Service</td>\n",
       "      <td>insurance</td>\n",
       "      <td>-0.262803</td>\n",
       "    </tr>\n",
       "    <tr>\n",
       "      <th>1</th>\n",
       "      <td>Business_Area</td>\n",
       "      <td>Product: Functioning</td>\n",
       "      <td>-0.212235</td>\n",
       "    </tr>\n",
       "    <tr>\n",
       "      <th>2</th>\n",
       "      <td>Car_Owner</td>\n",
       "      <td>Yes</td>\n",
       "      <td>-0.088060</td>\n",
       "    </tr>\n",
       "    <tr>\n",
       "      <th>3</th>\n",
       "      <td>Customer_Service</td>\n",
       "      <td>funeral</td>\n",
       "      <td>0.085438</td>\n",
       "    </tr>\n",
       "    <tr>\n",
       "      <th>4</th>\n",
       "      <td>Customer_Service</td>\n",
       "      <td>comprehensive</td>\n",
       "      <td>0.071753</td>\n",
       "    </tr>\n",
       "    <tr>\n",
       "      <th>5</th>\n",
       "      <td>Customer_Service</td>\n",
       "      <td>town</td>\n",
       "      <td>0.069573</td>\n",
       "    </tr>\n",
       "    <tr>\n",
       "      <th>6</th>\n",
       "      <td>Customer_Service</td>\n",
       "      <td>garage</td>\n",
       "      <td>0.065843</td>\n",
       "    </tr>\n",
       "    <tr>\n",
       "      <th>7</th>\n",
       "      <td>Customer_Service</td>\n",
       "      <td>purchased</td>\n",
       "      <td>0.062063</td>\n",
       "    </tr>\n",
       "    <tr>\n",
       "      <th>8</th>\n",
       "      <td>Customer_Service</td>\n",
       "      <td>smashed</td>\n",
       "      <td>0.059047</td>\n",
       "    </tr>\n",
       "    <tr>\n",
       "      <th>9</th>\n",
       "      <td>Children</td>\n",
       "      <td>2</td>\n",
       "      <td>-0.023184</td>\n",
       "    </tr>\n",
       "  </tbody>\n",
       "</table>\n",
       "</div>"
      ],
      "text/plain": [
       "       Feature name         Feature value  Importance\n",
       "0  Customer_Service             insurance   -0.262803\n",
       "1     Business_Area  Product: Functioning   -0.212235\n",
       "2         Car_Owner                   Yes   -0.088060\n",
       "3  Customer_Service               funeral    0.085438\n",
       "4  Customer_Service         comprehensive    0.071753\n",
       "5  Customer_Service                  town    0.069573\n",
       "6  Customer_Service                garage    0.065843\n",
       "7  Customer_Service             purchased    0.062063\n",
       "8  Customer_Service               smashed    0.059047\n",
       "9          Children                     2   -0.023184"
      ]
     },
     "execution_count": 68,
     "metadata": {},
     "output_type": "execute_result"
    }
   ],
   "source": [
    "explanation = metrics_result[\"metrics_result\"][\"explainability\"][\"lime\"][\"local_explanations\"][0][\"predictions\"][0]\n",
    "print(\"Explanation for prediction {0} is \".format(explanation.get(\"value\")))\n",
    "exp_df = pd.DataFrame(data = [(f.get(\"feature_name\"), f.get(\"feature_value\"), f.get(\"weight\")) for f in explanation.get(\"explanation_features\")], columns = [\"Feature name\", \"Feature value\", \"Importance\"])\n",
    "exp_df"
   ]
  },
  {
   "cell_type": "markdown",
   "id": "081cc08d-e861-4e63-859d-c595acbe88e7",
   "metadata": {},
   "source": [
    "**Authors**"
   ]
  },
  {
   "cell_type": "markdown",
   "id": "7a8089b8-b45b-41ed-9ecd-28d9c4c79e80",
   "metadata": {},
   "source": [
    "Developed by Pratap Kishore Varma V"
   ]
  }
 ],
 "metadata": {
  "kernelspec": {
   "display_name": "Python 3 (ipykernel)",
   "language": "python",
   "name": "python3"
  },
  "language_info": {
   "codemirror_mode": {
    "name": "ipython",
    "version": 3
   },
   "file_extension": ".py",
   "mimetype": "text/x-python",
   "name": "python",
   "nbconvert_exporter": "python",
   "pygments_lexer": "ipython3",
   "version": "3.10.7"
  },
  "vscode": {
   "interpreter": {
    "hash": "f5cb3393ed8235de7a6ed1fbca280fa7bc7397992a96038f99bdb9b845d14ee6"
   }
  }
 },
 "nbformat": 4,
 "nbformat_minor": 5
}
