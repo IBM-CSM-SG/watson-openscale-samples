{
 "cells": [
  {
   "cell_type": "markdown",
   "metadata": {
    "collapsed": true,
    "id": "75feab07-55ef-4436-ab6c-48d5c2d133e4"
   },
   "source": [
    "<img src=\"https://github.com/pmservice/ai-openscale-tutorials/raw/master/notebooks/images/banner.png\" align=\"left\" alt=\"banner\">"
   ]
  },
  {
   "cell_type": "markdown",
   "metadata": {
    "id": "b18c0eec7d1c46f6b8fe4c779c478b7b"
   },
   "source": [
    "# Working with Watson OpenScale  Multi Output Regression Models"
   ]
  },
  {
   "cell_type": "markdown",
   "metadata": {
    "id": "fc3ebd630e524b3e812e2d17d603e5c9"
   },
   "source": [
    "This notebook should be run using with **Python 3.9 or Python 3.10** runtime environment in **IBM Cloud Pak for Data 4.7.x** \n",
    "\n",
    "It requires service credentials for the following services:\n",
    "  * Watson OpenScale\n",
    "  \n",
    "\n",
    "# OpenScale Headless Subscription for Multi-Output model\n",
    "\n",
    "\n",
    "### Headless Subscription\n",
    "\n",
    "Some customers are unwilling to expose their Machine Learning model scoring endpoint but customers are looking for measuring the performance of their multi-ouput models. In OpenScale, the customers can create a custom ML provider with an empty deployment URL, and there by configure an headless subscription by describing the payload data, followed by logging the feedback data and configuring the monitors for multi-output models.\n",
    "\n",
    "### Multi-Output Model\n",
    "Multi-output model predicts multiple outputs for each sample. In multi-output regression, the model will give two or more numeric outputs given an input.\n",
    "\n",
    "\n",
    "This notebook will create headless subscription for multi-output regression model using the `Boston house price` dataset, predicts the multiple outputs ie `Price` of the house and `PTRatio`(pupil-teacher ratio by town) using the given features and save the Boston house price data along with the predictions to the Openscale feedback table, configure the quality monitor and evaluate the quality metrics for each output.\n"
   ]
  },
  {
   "cell_type": "markdown",
   "metadata": {
    "id": "262ffb75c64b4523bfda24ea95d4b8f5"
   },
   "source": [
    "# Setup <a name=\"setup\"></a>"
   ]
  },
  {
   "cell_type": "markdown",
   "metadata": {
    "id": "3b7c0a42ac1e43139057e5d78abfe075"
   },
   "source": [
    "## Package installation"
   ]
  },
  {
   "cell_type": "code",
   "execution_count": null,
   "metadata": {
    "id": "dc441429a8ad4aada3fa29d81e98e5cf",
    "scrolled": true
   },
   "outputs": [],
   "source": [
    "!pip install --upgrade ibm-watson-machine-learning --user | tail -n 1\n",
    "!pip install --upgrade ibm-watson-openscale --no-cache | tail -n 1"
   ]
  },
  {
   "cell_type": "markdown",
   "metadata": {
    "id": "44f0e2adc53c4f04ba9647b031d88cb9"
   },
   "source": [
    "### Action: restart the kernel!"
   ]
  },
  {
   "cell_type": "code",
   "execution_count": null,
   "metadata": {
    "id": "827d92b4b8e1491e81d23153816f555c",
    "scrolled": true
   },
   "outputs": [],
   "source": [
    "import warnings\n",
    "warnings.filterwarnings('ignore')"
   ]
  },
  {
   "cell_type": "markdown",
   "metadata": {
    "id": "f8cdd3fa70d94b9c8e3bea9fc4c65e9f"
   },
   "source": [
    "## Configure credentials"
   ]
  },
  {
   "cell_type": "code",
   "execution_count": null,
   "metadata": {
    "id": "c470852b2bf14f7caeef5d025c8d64c7",
    "scrolled": true
   },
   "outputs": [],
   "source": [
    "############################################################################################\n",
    "# Paste your Watson OpenScale credentials into the following section and then run this cell.\n",
    "############################################################################################\n",
    "\n",
    "WOS_CREDENTIALS = {\n",
    "    \"url\": \"<Cloud Pak for Data Host URL>\",\n",
    "    \"username\": \"<User>\",\n",
    "    \"apikey\": \"<User APIKey>\"\n",
    "}"
   ]
  },
  {
   "cell_type": "markdown",
   "metadata": {},
   "source": [
    "### Enter your Watson OpenScale GUID.\n",
    "\n",
    "For most systems, the default GUID is already entered for you. You would only need to update this particular entry if the GUID was changed from the default.\n",
    "\n"
   ]
  },
  {
   "cell_type": "code",
   "execution_count": null,
   "metadata": {},
   "outputs": [],
   "source": [
    "#Update your Watson OpenScale datamart id.\n",
    "WOS_GUID=\"00000000-0000-0000-0000-000000000000\""
   ]
  },
  {
   "cell_type": "markdown",
   "metadata": {},
   "source": [
    "# Generate Feedback data for the Boston Housing Price dataset\n",
    "\n",
    "Download the Boston housing price dataset from <a href='https://www.kaggle.com/datasets/altavish/boston-housing-dataset'>Kaggle</a> or sklearn datasets and modify the format of multi output columns as per the Openscale requirement. \n"
   ]
  },
  {
   "cell_type": "markdown",
   "metadata": {
    "id": "b496c7a7-e5e8-464b-bac9-c634168be83f"
   },
   "source": [
    "###  Sample Multi-Output  data\n",
    "\n",
    "Openscale expects the multiple output columns to be in single array output column. User need to combine the multi target columns into single array and provide the output column names in the `prediction_output_names` field while creating the subscription."
   ]
  },
  {
   "cell_type": "code",
   "execution_count": null,
   "metadata": {
    "id": "560012bd-0f36-4cac-a138-8f7068c3056a",
    "scrolled": true
   },
   "outputs": [],
   "source": [
    "#Sample record from botson housing price data set \n",
    "#CRIM,ZN,INDUS,CHAS,NOX,RM,AGE,DIS,RAD,TAX,B,LSTAT,PTRatio,Price\n",
    "#0.04932,33.0,2.18,0.0,0.472,6.849,70.3,3.1827,7.0,222.0,396.9,7.53,18.4, 28.2\n",
    "\n",
    "#Openscale Expected Format\n",
    "#CRIM,ZN,INDUS,CHAS,NOX,RM,AGE,DIS,RAD,TAX,B,LSTAT,PTRatio_Price\n",
    "#0.04932,33.0,2.18,0.0,0.472,6.849,70.3,3.1827,7.0,222.0,396.9,7.53,[18.4, 28.2]"
   ]
  },
  {
   "cell_type": "markdown",
   "metadata": {},
   "source": [
    "### Read the Boston Housing Price Dataset\n",
    "Reads the Housing Price data from the sklearn datasets  and identify the feature columns and multiple output columns and creates the MultiOutputRegressor model to predict the multiple outputs and save the actual data along with predicted output to a csv file. \n"
   ]
  },
  {
   "cell_type": "code",
   "execution_count": null,
   "metadata": {},
   "outputs": [],
   "source": [
    "# Importing the Boston Housing dataset\n",
    "from sklearn.datasets import load_boston\n",
    "from sklearn.model_selection import train_test_split\n",
    "from sklearn.multioutput import MultiOutputRegressor\n",
    "from sklearn.ensemble import GradientBoostingRegressor\n",
    "from sklearn.utils import shuffle\n",
    "import pandas as pd\n",
    "import numpy as np"
   ]
  },
  {
   "cell_type": "code",
   "execution_count": null,
   "metadata": {},
   "outputs": [],
   "source": [
    "# Loading the Boston Housing dataset\n",
    "boston = load_boston()\n",
    "# Initializing the dataframe\n",
    "boston_housing_df = pd.DataFrame(boston.data)\n",
    "#Adding the feature names to the dataframe\n",
    "boston_housing_df.columns = boston.feature_names\n",
    "#Adding target variable to dataframe\n",
    "boston_housing_df['PRICE'] = boston.target\n",
    "boston_housing_df.head()"
   ]
  },
  {
   "cell_type": "code",
   "execution_count": null,
   "metadata": {},
   "outputs": [],
   "source": [
    "# Split the data into train and test with 50 train / 50 test\n",
    "boston_housing_df_train, boston_housing_df_test = train_test_split(boston_housing_df, test_size=0.5, random_state = 1)\n",
    "boston_housing_df_train"
   ]
  },
  {
   "cell_type": "code",
   "execution_count": null,
   "metadata": {},
   "outputs": [],
   "source": [
    "# Get Y1 and Y2 as the 2 outputs and format them as np arrays\n",
    "# PTRATIO - pupil-teacher ratio by town\n",
    "y1 = boston_housing_df_train.pop('PTRATIO')\n",
    "y1 = np.array(y1)\n",
    "y2 = boston_housing_df_train.pop('PRICE')\n",
    "y2 = np.array(y2)\n",
    "\n",
    "Y = np.vstack((y1, y2)).T\n",
    "X = np.array(boston_housing_df_train)\n"
   ]
  },
  {
   "cell_type": "markdown",
   "metadata": {},
   "source": [
    "#### Create MultiOutputRegressor Model"
   ]
  },
  {
   "cell_type": "code",
   "execution_count": null,
   "metadata": {},
   "outputs": [],
   "source": [
    "model = MultiOutputRegressor(GradientBoostingRegressor(random_state=0)).fit(X, Y)\n",
    "predictions = model.predict(X)\n",
    "predictions[:5]"
   ]
  },
  {
   "cell_type": "markdown",
   "metadata": {},
   "source": [
    "#### Input Data\n",
    "\n",
    "Specify the `feature` fields and  `target` columns of the dataset "
   ]
  },
  {
   "cell_type": "code",
   "execution_count": null,
   "metadata": {},
   "outputs": [],
   "source": [
    "features_list = boston_housing_df_train.columns\n",
    "target_columns_list = [\"PTRATIO\",\"PRICE\"]\n",
    "#Name of the prediction column in the Openscale feedback table\n",
    "prediction_column_name = \"_original_prediction\"\n",
    "#Name of the label field\n",
    "label_column = \"PTRatio_Price\""
   ]
  },
  {
   "cell_type": "code",
   "execution_count": null,
   "metadata": {},
   "outputs": [],
   "source": [
    "def format_predictions(predictions):\n",
    "    pred_array = list()\n",
    "    \n",
    "    for pred in predictions:\n",
    "        pred_array.append(pred)\n",
    "    return pred_array\n"
   ]
  },
  {
   "cell_type": "markdown",
   "metadata": {},
   "source": [
    "#### Predict the test data "
   ]
  },
  {
   "cell_type": "code",
   "execution_count": null,
   "metadata": {},
   "outputs": [],
   "source": [
    "boston_housing_df_test[prediction_column_name] = boston_housing_df_test[features_list].apply(lambda x: model.predict([x])[0],axis=1)\n",
    "boston_housing_df_test[prediction_column_name] = boston_housing_df_test[prediction_column_name].apply(lambda x: format_predictions(x))\n",
    "boston_housing_df_test.head()"
   ]
  },
  {
   "cell_type": "code",
   "execution_count": null,
   "metadata": {},
   "outputs": [],
   "source": [
    "# Combine the multiple target columns `PTRATIO`, `PRICE` to single column `PTRatio_Price`\n",
    "\n",
    "boston_housing_df_test[label_column] = boston_housing_df_test[target_columns_list].apply(list, axis=1)\n",
    "boston_housing_df_test.head()\n",
    "new_columns = list()\n",
    "for feature in features_list:\n",
    "    new_columns.append(feature)\n",
    "new_columns.append(label_column)\n",
    "new_columns.append(prediction_column_name)\n",
    "\n",
    "# Swapping the columns\n",
    "boston_housing_df_test = boston_housing_df_test.reindex(columns=new_columns)\n",
    "boston_housing_df_test.head()\n"
   ]
  },
  {
   "cell_type": "markdown",
   "metadata": {},
   "source": [
    "#### Save the  `Boston Housing Price` data  along with the predictions data to the csv<a name = \"save_data\">"
   ]
  },
  {
   "cell_type": "code",
   "execution_count": null,
   "metadata": {},
   "outputs": [],
   "source": [
    "#Save the actual data along with the predictions data to the csv\n",
    "import csv\n",
    "boston_housing_df_test.to_csv(\"boston_housing_price_feedback.csv\",sep=',',index=False)"
   ]
  },
  {
   "cell_type": "markdown",
   "metadata": {
    "id": "9b0707ac1440466492c933e7069aa015"
   },
   "source": [
    "# Configure OpenScale \n",
    "\n",
    "The notebook will now import the necessary libraries and set up a Python OpenScale client."
   ]
  },
  {
   "cell_type": "code",
   "execution_count": null,
   "metadata": {
    "id": "6b03734389aa45fb84321fadc60743e8",
    "scrolled": true
   },
   "outputs": [],
   "source": [
    "from ibm_watson_openscale import APIClient\n",
    "from ibm_watson_openscale.utils import *\n",
    "from ibm_watson_openscale.supporting_classes import *\n",
    "from ibm_watson_openscale.supporting_classes.enums import *\n",
    "from ibm_watson_openscale.base_classes.watson_open_scale_v2 import *\n",
    "from ibm_cloud_sdk_core.authenticators import CloudPakForDataAuthenticator\n",
    "\n",
    "import json\n",
    "import requests\n",
    "import base64\n",
    "from requests.auth import HTTPBasicAuth\n",
    "import time"
   ]
  },
  {
   "cell_type": "markdown",
   "metadata": {
    "id": "3043544c667e49d38cd70855d8ccb5ad"
   },
   "source": [
    "## Get a instance of the OpenScale SDK client"
   ]
  },
  {
   "cell_type": "code",
   "execution_count": null,
   "metadata": {
    "id": "d3d5b4df0a9f4d598a6cbd595700ae53",
    "scrolled": true
   },
   "outputs": [],
   "source": [
    "authenticator = CloudPakForDataAuthenticator(\n",
    "        url=WOS_CREDENTIALS['url'],\n",
    "        username=WOS_CREDENTIALS['username'],\n",
    "        apikey=WOS_CREDENTIALS['apikey'],\n",
    "        disable_ssl_verification=True\n",
    "    )\n",
    "wos_client = APIClient(service_url=WOS_CREDENTIALS['url'],authenticator=authenticator, service_instance_id=WOS_GUID)\n",
    "wos_client.version\n"
   ]
  },
  {
   "cell_type": "markdown",
   "metadata": {
    "id": "5dbc59b8112144b8a06e6c41a8301f0a"
   },
   "source": [
    "## OpenScale DataMart\n",
    "\n",
    "Watson OpenScale uses a database to store payload and feedback logs and calculated metrics. Here we are using already configured data mart."
   ]
  },
  {
   "cell_type": "code",
   "execution_count": null,
   "metadata": {
    "id": "ca368ed3793443da944e24b8b5e0d281",
    "scrolled": true
   },
   "outputs": [],
   "source": [
    "wos_client.data_marts.show()"
   ]
  },
  {
   "cell_type": "code",
   "execution_count": null,
   "metadata": {
    "id": "2966db92a2994a958136635144f05572",
    "scrolled": true
   },
   "outputs": [],
   "source": [
    "data_marts = wos_client.data_marts.list().result.data_marts\n",
    "data_mart_id=data_marts[0].metadata.id\n",
    "print('Using existing datamart {}'.format(data_mart_id))"
   ]
  },
  {
   "cell_type": "markdown",
   "metadata": {},
   "source": [
    "## Service Provider"
   ]
  },
  {
   "cell_type": "code",
   "execution_count": null,
   "metadata": {},
   "outputs": [],
   "source": [
    "#Show the existing providers\n",
    "\n",
    "wos_client.service_providers.show()"
   ]
  },
  {
   "cell_type": "markdown",
   "metadata": {
    "id": "b1ecf806072240cd89af4324cb844744"
   },
   "source": [
    "## Remove existing service provider\n",
    "\n",
    "Multiple service providers for the same engine instance are avaiable in Watson OpenScale. To avoid multiple service providers of used WML instance in the tutorial notebook the following code deletes existing service provder(s) and then adds new one."
   ]
  },
  {
   "cell_type": "code",
   "execution_count": null,
   "metadata": {
    "id": "34534f784ac845438b54c6947d227ccb",
    "scrolled": true
   },
   "outputs": [],
   "source": [
    "SERVICE_PROVIDER_NAME = \"OpenScale Headless Service Provider\"\n",
    "SERVICE_PROVIDER_DESCRIPTION = \"Added by tutorial WOS notebook to showcase Multi output models functionality.\""
   ]
  },
  {
   "cell_type": "code",
   "execution_count": null,
   "metadata": {
    "id": "ebd41ed59d0a44b3837152bdd67e10fc",
    "scrolled": true
   },
   "outputs": [],
   "source": [
    "service_providers = wos_client.service_providers.list().result.service_providers\n",
    "for service_provider in service_providers:\n",
    "    service_instance_name = service_provider.entity.name\n",
    "    if service_instance_name == SERVICE_PROVIDER_NAME:\n",
    "        service_provider_id = service_provider.metadata.id\n",
    "        wos_client.service_providers.delete(service_provider_id)\n",
    "        print(\"Deleted existing service_provider for WML instance: {}\".format(service_provider_id))"
   ]
  },
  {
   "cell_type": "markdown",
   "metadata": {
    "id": "48cf5770290744c28274669a5af0103b"
   },
   "source": [
    "## Add service provider\n",
    "\n",
    "Watson OpenScale needs to be bound to the Watson Machine Learning instance to capture payload data into and out of the model.\n",
    "\n",
    "Note: Here the service provider is created with empty credentials, meaning no endpoint. Just to demonstrate the use case were we don't need an actual end point serving requests."
   ]
  },
  {
   "cell_type": "code",
   "execution_count": null,
   "metadata": {
    "id": "2d260d321cad475682aea0857c9b1054",
    "scrolled": true
   },
   "outputs": [],
   "source": [
    "MLCredentials = {}\n",
    "added_service_provider_result = wos_client.service_providers.add(\n",
    "        name=SERVICE_PROVIDER_NAME,\n",
    "        description=SERVICE_PROVIDER_DESCRIPTION,\n",
    "        service_type=ServiceTypes.CUSTOM_MACHINE_LEARNING,\n",
    "        operational_space_id = \"production\",\n",
    "        credentials=MLCredentials,\n",
    "        background_mode=False\n",
    "    ).result\n",
    "service_provider_id = added_service_provider_result.metadata.id"
   ]
  },
  {
   "cell_type": "code",
   "execution_count": null,
   "metadata": {
    "id": "eae202864f724fb9880ed31fadf75ac0",
    "scrolled": true
   },
   "outputs": [],
   "source": [
    "wos_client.service_providers.show()\n",
    "print(wos_client.service_providers.get(service_provider_id).result)"
   ]
  },
  {
   "cell_type": "markdown",
   "metadata": {
    "id": "09f4993d2caa48269b9832c7e9b145d6"
   },
   "source": [
    "## Subscriptions"
   ]
  },
  {
   "cell_type": "markdown",
   "metadata": {
    "id": "2e59906593c44bda97f79a9c35e728f6"
   },
   "source": [
    "Remove existing subscriptions\n",
    "\n",
    "This code removes previous subscriptions to the model to refresh the monitors with the new model and new data."
   ]
  },
  {
   "cell_type": "code",
   "execution_count": null,
   "metadata": {
    "id": "6b97d781684b401095188860bd0a3c96",
    "scrolled": true
   },
   "outputs": [],
   "source": [
    "wos_client.subscriptions.show()"
   ]
  },
  {
   "cell_type": "markdown",
   "metadata": {
    "id": "b0d085c8a875458b834992abd3577219"
   },
   "source": [
    "## Remove the existing subscription"
   ]
  },
  {
   "cell_type": "code",
   "execution_count": null,
   "metadata": {
    "id": "3084501d8ecc482282eaa59a7c4327f9",
    "scrolled": true
   },
   "outputs": [],
   "source": [
    "SUBSCRIPTION_NAME = \"Multi-Output Regression Headless Subscription\""
   ]
  },
  {
   "cell_type": "code",
   "execution_count": null,
   "metadata": {
    "id": "f5ef621a07cb4e468fca6cc62d22595e",
    "scrolled": true
   },
   "outputs": [],
   "source": [
    "subscriptions = wos_client.subscriptions.list().result.subscriptions\n",
    "for subscription in subscriptions:\n",
    "    if subscription.entity.asset.name == '[asset] ' + SUBSCRIPTION_NAME:\n",
    "        sub_model_id = subscription.metadata.id\n",
    "        wos_client.subscriptions.delete(subscription.metadata.id)\n",
    "        print('Deleted existing subscription for model', sub_model_id)"
   ]
  },
  {
   "cell_type": "code",
   "execution_count": null,
   "metadata": {},
   "outputs": [],
   "source": [
    "#List of the feature fields\n",
    "feature_columns=list(features_list)\n",
    "\n",
    "#Names of the multiple output columns in the Boston housing price dataset \n",
    "prediction_output_names = [\"PTRatio\",\"Price\"]\n"
   ]
  },
  {
   "cell_type": "markdown",
   "metadata": {
    "id": "d117477d751b4d6380d2feceac14450e"
   },
   "source": [
    "This code creates the model subscription in OpenScale using the Python client API. Note that we need to provide the model unique identifier, and some information about the model itself."
   ]
  },
  {
   "cell_type": "code",
   "execution_count": null,
   "metadata": {
    "id": "e2df727978ef4fbe8062c30a63944b6d",
    "scrolled": true
   },
   "outputs": [],
   "source": [
    "print(\"Data Mart ID: \" + data_mart_id)\n",
    "print(\"Service Provide ID: \" + service_provider_id)\n",
    "import uuid\n",
    "asset_id = str(uuid.uuid4())\n",
    "asset_name = '[asset] ' + SUBSCRIPTION_NAME\n",
    "url = None\n",
    "\n",
    "asset_deployment_id = str(uuid.uuid4())\n",
    "asset_deployment_name = asset_name"
   ]
  },
  {
   "cell_type": "code",
   "execution_count": null,
   "metadata": {
    "id": "1de20abba6d84c6c8ba84cd3ed3bc96e",
    "scrolled": true
   },
   "outputs": [],
   "source": [
    "subscription_details = wos_client.subscriptions.add(data_mart_id,\n",
    "    service_provider_id,\n",
    "    asset=Asset(\n",
    "        asset_id=asset_id,\n",
    "        name=asset_name,\n",
    "        url=url,\n",
    "        asset_type=AssetTypes.MODEL,\n",
    "        input_data_type=InputDataType.STRUCTURED,\n",
    "        problem_type=ProblemType.REGRESSION\n",
    "    ),\n",
    "    deployment=AssetDeploymentRequest(name=\"deployment_\"+asset_name,\n",
    "                                     deployment_id=asset_id,\n",
    "                                     deployment_type= DeploymentTypes.ONLINE),\n",
    "    asset_properties=AssetPropertiesRequest(\n",
    "        probability_fields=[ \"probability\" ],\n",
    "        label_column=label_column,\n",
    "        prediction_field=\"prediction\",\n",
    "        prediction_names= prediction_output_names,\n",
    "        feature_fields = feature_columns,\n",
    "        categorical_fields = None\n",
    "    ),\n",
    "    deployment_name = asset_name,\n",
    "   background_mode=False\n",
    ").result\n",
    "\n",
    "subscription_id = subscription_details.metadata.id\n",
    "print(\"Subscription id {}\".format(subscription_id))\n",
    "\n"
   ]
  },
  {
   "cell_type": "code",
   "execution_count": null,
   "metadata": {
    "id": "630c6c85-dcaa-438f-a130-126aa92273d3",
    "scrolled": true
   },
   "outputs": [],
   "source": [
    "wos_client.subscriptions.get(subscription_id).result.to_dict()"
   ]
  },
  {
   "cell_type": "markdown",
   "metadata": {
    "id": "3661fcfa-bbdb-48bc-9597-2d195dce2e55"
   },
   "source": [
    "### The following code fetches the data set id, against which we would be performing the payload logging"
   ]
  },
  {
   "cell_type": "code",
   "execution_count": null,
   "metadata": {
    "id": "9dee41fc8ae2407483f7d08f7ecd9663",
    "scrolled": true
   },
   "outputs": [],
   "source": [
    "import time\n",
    "\n",
    "time.sleep(5)\n",
    "payload_data_set_id = None\n",
    "payload_data_set_id = wos_client.data_sets.list(type=DataSetTypes.PAYLOAD_LOGGING, \n",
    "                                                target_target_id=subscription_id, \n",
    "                                                target_target_type=TargetTypes.SUBSCRIPTION).result.data_sets[0].metadata.id\n",
    "if payload_data_set_id is None:\n",
    "    print(\"Payload data set not found. Please check subscription status.\")\n",
    "else:\n",
    "    print(\"Payload data set id:\", payload_data_set_id)"
   ]
  },
  {
   "cell_type": "markdown",
   "metadata": {
    "id": "2d75c57ab8914d70acdc3ed523675b1b"
   },
   "source": [
    "## Push a payload record to setup the required schemas in the subscription\n",
    "\n",
    "This is the location where one needs to fetch the output of the scoring model and construct the payload as per the OpenScale Payload Logging format.\n",
    "\n",
    "Note : No scoring is done against the model. The PayloadRecord is constructed as per the format required for the multi output models in Openscale with the request and response from the machine learning model "
   ]
  },
  {
   "cell_type": "markdown",
   "metadata": {
    "id": "7ea1d04fe73a452685847cfc4f780256"
   },
   "source": [
    "## Scoring Request Payload"
   ]
  },
  {
   "cell_type": "code",
   "execution_count": null,
   "metadata": {
    "id": "cb53d8ad950146bda2fd9ad017112835",
    "scrolled": true
   },
   "outputs": [],
   "source": [
    "scoring_request =   {\n",
    "        \"fields\": [\n",
    "            \"CRIM\",\"ZN\",\"INDUS\",\"CHAS\",\"NOX\",\"RM\",\"AGE\",\"DIS\",\"RAD\",\"TAX\",\"B\",\"LSTAT\"\n",
    "           \n",
    "        ],\n",
    "        \"values\": [\n",
    "            [6.44405,0.0,18.1,0.0,0.584,6.425,74.8,2.2004,24.0,666.0,97.95,12.03]\n",
    "        ]\n",
    "    }"
   ]
  },
  {
   "cell_type": "markdown",
   "metadata": {
    "id": "3e469b9bf6cc4baa855d4954b28b5ff7"
   },
   "source": [
    "## Scoring Response Payload"
   ]
  },
  {
   "cell_type": "code",
   "execution_count": null,
   "metadata": {
    "id": "12303ea22a7146b2ab77b898a3fdffe2",
    "scrolled": true
   },
   "outputs": [],
   "source": [
    "scoring_response = {\n",
    "    \"predictions\": [\n",
    "        {\n",
    "            \"fields\": [\n",
    "                \"prediction\"\n",
    "            ],\n",
    "            \"values\": [\n",
    "                 [20.145297738866503, 17.068259536632187]\n",
    "            ]\n",
    "        }\n",
    "    ]\n",
    "}"
   ]
  },
  {
   "cell_type": "markdown",
   "metadata": {
    "id": "05df7f6b-eae1-4410-b07b-41b29dc6d6d1"
   },
   "source": [
    "### Construct the payload using the scoring_request and scoring_response and then log the records"
   ]
  },
  {
   "cell_type": "code",
   "execution_count": null,
   "metadata": {
    "id": "edb0cf12b0164869879f0ea101f520e0",
    "scrolled": true
   },
   "outputs": [],
   "source": [
    "from ibm_watson_openscale.supporting_classes.payload_record import PayloadRecord\n",
    "\n",
    "records_list=[]\n",
    "for x in range(2):\n",
    "    pl_record = PayloadRecord(request=scoring_request, response=scoring_response)\n",
    "    records_list.append(pl_record)\n",
    "\n",
    "wos_client.data_sets.store_records(data_set_id=payload_data_set_id, request_body=records_list)"
   ]
  },
  {
   "cell_type": "markdown",
   "metadata": {
    "id": "d93543a1-f474-4d69-b253-3966aed0a6b0"
   },
   "source": [
    "### Make sure the records reached the payload logging table inside the OpenScale DataMart."
   ]
  },
  {
   "cell_type": "code",
   "execution_count": null,
   "metadata": {
    "id": "933b5220cd9d4c5681f54308ce266ade",
    "scrolled": true
   },
   "outputs": [],
   "source": [
    "time.sleep(5)\n",
    "pl_records_count = wos_client.data_sets.get_records_count(payload_data_set_id)\n",
    "print(\"Number of records in the payload logging table: {}\".format(pl_records_count))\n",
    "if pl_records_count == 0:\n",
    "    raise Exception(\"Payload logging did not happen!\")"
   ]
  },
  {
   "cell_type": "markdown",
   "metadata": {
    "id": "9383640e6ca5477b9d0f2f3c9ea46885"
   },
   "source": [
    "## Fetch the subscription details to confirm output data schemas are setup"
   ]
  },
  {
   "cell_type": "code",
   "execution_count": null,
   "metadata": {
    "id": "f8fa3697195d4f02895b042e6add28b4",
    "scrolled": true
   },
   "outputs": [],
   "source": [
    "subscription = wos_client.subscriptions.get(subscription_id).result.to_dict()\n",
    "subscription"
   ]
  },
  {
   "cell_type": "markdown",
   "metadata": {
    "id": "864da785a62b4bb782651e7a89b04837"
   },
   "source": [
    "# Quality monitoring and feedback logging"
   ]
  },
  {
   "cell_type": "markdown",
   "metadata": {
    "id": "2cfa62a024bd4951827899957267c0ae"
   },
   "source": [
    "## Enable quality monitoring\n",
    "Evaluates the metrics for each target during the runtime evaluation and publishes the quality metrics for each target individually.\n",
    "\n",
    "\n",
    "First, it turns on the quality monitor and sets an alert threshold of 80%. OpenScale will show an alert on the dashboard if the model accuracy measurement (R squared score, in the case of a regression classifier) falls below this threshold.\n",
    "\n",
    "The second paramater supplied, min_records, specifies the minimum number of feedback records OpenScale needs before it calculates a new measurement. The quality monitor runs hourly, but the accuracy reading in the dashboard will not change until an additional 10 feedback records have been added, via the user interface, the Python client, or the supplied feedback endpoint.\n",
    "\n"
   ]
  },
  {
   "cell_type": "code",
   "execution_count": null,
   "metadata": {
    "id": "315eff5637f3499789af5bff0e952c27",
    "scrolled": true
   },
   "outputs": [],
   "source": [
    "import time\n",
    "\n",
    "target = Target(\n",
    "        target_type=TargetTypes.SUBSCRIPTION,\n",
    "        target_id=subscription_id\n",
    ")\n",
    "parameters = {\n",
    "    \"min_feedback_data_size\": 10\n",
    "}\n",
    "thresholds = [\n",
    "                {\n",
    "                    \"metric_id\": \"r2\",\n",
    "                    \"type\": \"lower_limit\",\n",
    "                    \"value\": .80\n",
    "                }\n",
    "            ]\n",
    "quality_monitor_details = wos_client.monitor_instances.create(\n",
    "    data_mart_id=data_mart_id,\n",
    "    background_mode=False,\n",
    "    monitor_definition_id=wos_client.monitor_definitions.MONITORS.QUALITY.ID,\n",
    "    target=target,\n",
    "    parameters=parameters,\n",
    "    thresholds=thresholds\n",
    ").result"
   ]
  },
  {
   "cell_type": "code",
   "execution_count": null,
   "metadata": {
    "id": "4854f81d452a4e41804bf69fffd23793",
    "scrolled": true
   },
   "outputs": [],
   "source": [
    "quality_monitor_instance_id = quality_monitor_details.metadata.id\n",
    "quality_monitor_instance_id"
   ]
  },
  {
   "cell_type": "markdown",
   "metadata": {
    "id": "37088b2299714a2d8a7ff123dca6f67b"
   },
   "source": [
    "## Get feedback logging dataset ID"
   ]
  },
  {
   "cell_type": "code",
   "execution_count": null,
   "metadata": {
    "id": "eb0240054545408e886dc81e11073107",
    "scrolled": true
   },
   "outputs": [],
   "source": [
    "feedback_dataset_id = None\n",
    "feedback_dataset = wos_client.data_sets.list(type=DataSetTypes.FEEDBACK, \n",
    "                                                target_target_id=subscription_id, \n",
    "                                                target_target_type=TargetTypes.SUBSCRIPTION).result\n",
    "feedback_dataset_id = feedback_dataset.data_sets[0].metadata.id\n",
    "if feedback_dataset_id is None:\n",
    "    print(\"Feedback data set not found. Please check quality monitor status.\")"
   ]
  },
  {
   "cell_type": "code",
   "execution_count": null,
   "metadata": {
    "id": "d3440261ffba406589148380ed0296a9",
    "scrolled": true
   },
   "outputs": [],
   "source": [
    "feedback_dataset_id"
   ]
  },
  {
   "cell_type": "markdown",
   "metadata": {},
   "source": [
    "### Store the feedback payload using OpenScale Python SDK\n",
    "\n",
    "Read the csv file which was generated in the above [Save the Boston Housing Price data ](#save_data) cell  and save the records to the feedback table"
   ]
  },
  {
   "cell_type": "code",
   "execution_count": null,
   "metadata": {},
   "outputs": [],
   "source": [
    "import io\n",
    "csv_buffer_reader = io.open('boston_housing_price_feedback.csv', mode=\"rb\")\n",
    "\n",
    "store_record_info = wos_client.data_sets.store_records(\n",
    "      request_body=csv_buffer_reader,\n",
    "      delimiter=',',\n",
    "      header=True,\n",
    "      data_set_id=feedback_dataset_id,\n",
    "      csv_max_line_length = 8196\n",
    "  )"
   ]
  },
  {
   "cell_type": "markdown",
   "metadata": {
    "id": "373ef04bff5b4772833b6b1120fd2314"
   },
   "source": [
    "### Wait for sometime, and make sure the records have reached to feedback table."
   ]
  },
  {
   "cell_type": "code",
   "execution_count": null,
   "metadata": {},
   "outputs": [],
   "source": [
    "time.sleep(5)\n",
    "feedback_records_count = wos_client.data_sets.get_records_count(feedback_dataset_id)\n",
    "print(\"Number of records in the feedback logging table: {}\".format(feedback_records_count))\n",
    "if feedback_records_count == 0:\n",
    "    raise Exception(\"feedback logging did not happen!\")"
   ]
  },
  {
   "cell_type": "markdown",
   "metadata": {
    "id": "96bdfc3a376d44a585432889b033f060"
   },
   "source": [
    "## Run Quality Monitor"
   ]
  },
  {
   "cell_type": "code",
   "execution_count": null,
   "metadata": {
    "id": "adfd17e52f3e4c4f88c4fe8016c4d6b0",
    "scrolled": true
   },
   "outputs": [],
   "source": [
    "run_details = wos_client.monitor_instances.run(monitor_instance_id=quality_monitor_instance_id, background_mode=False).result"
   ]
  },
  {
   "cell_type": "markdown",
   "metadata": {},
   "source": [
    "### Show Metrics\n",
    "\n",
    "Shows the quality metrics for each target column"
   ]
  },
  {
   "cell_type": "code",
   "execution_count": null,
   "metadata": {
    "id": "9067577f098247d6bceb49f733097b75",
    "scrolled": true
   },
   "outputs": [],
   "source": [
    "wos_client.monitor_instances.show_metrics(monitor_instance_id=quality_monitor_instance_id,limit=100)"
   ]
  },
  {
   "cell_type": "markdown",
   "metadata": {},
   "source": [
    "Congratulations!\n",
    "\n",
    "You have finished configuring and evaluating quality monitor for multi output models in IBM Watson OpenScale.\n"
   ]
  }
 ],
 "metadata": {
  "kernelspec": {
   "display_name": "Python 3 (ipykernel)",
   "language": "python",
   "name": "python3"
  },
  "language_info": {
   "codemirror_mode": {
    "name": "ipython",
    "version": 3
   },
   "file_extension": ".py",
   "mimetype": "text/x-python",
   "name": "python",
   "nbconvert_exporter": "python",
   "pygments_lexer": "ipython3",
   "version": "3.9.16"
  },
  "vscode": {
   "interpreter": {
    "hash": "dbf53fce1b4f805dfa7248c873cd5919f94c1d61eaf85ef20024e88fdf9444a6"
   }
  }
 },
 "nbformat": 4,
 "nbformat_minor": 1
}