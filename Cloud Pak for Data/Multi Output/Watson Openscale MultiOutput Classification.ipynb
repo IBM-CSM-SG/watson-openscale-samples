{
 "cells": [
  {
   "cell_type": "markdown",
   "metadata": {
    "collapsed": true,
    "id": "75feab07-55ef-4436-ab6c-48d5c2d133e4"
   },
   "source": [
    "<img src=\"https://github.com/pmservice/ai-openscale-tutorials/raw/master/notebooks/images/banner.png\" align=\"left\" alt=\"banner\">"
   ]
  },
  {
   "cell_type": "markdown",
   "metadata": {
    "id": "b18c0eec7d1c46f6b8fe4c779c478b7b"
   },
   "source": [
    "# Working with Watson OpenScale  Multi Output Classification Models"
   ]
  },
  {
   "cell_type": "markdown",
   "metadata": {
    "id": "fc3ebd630e524b3e812e2d17d603e5c9"
   },
   "source": [
    "This notebook should be run using with **Python 3.9 or Python 3.10** runtime environment in **IBM Cloud Pak for Data 4.7.x**\n",
    "\n",
    "It requires service credentials for the following services:\n",
    "  * Watson OpenScale\n",
    "  \n",
    "\n",
    "# OpenScale Headless Subscription for Multi-Output model\n",
    "\n",
    "\n",
    "### Headless Subscription\n",
    "\n",
    "Some customers are unwilling to expose their Machine Learning model scoring endpoint but customers are looking for measuring the performance of their multi-ouput models. In OpenScale, the customers can create a custom ML provider with an empty deployment URL, and there by configure an headless subscription by describing the payload data, followed by logging the feedback data and configuring the monitors for multi-output models.\n",
    "\n",
    "### Multi-Output Model\n",
    "Multi-output model predicts multiple outputs for each sample. In multi-output classification, the model will give two or more outputs and the number of classes per output is greater than 2.\n",
    "\n",
    "This notebook will create headless subscription for multi-output text classification model using the job type dataset, save the feature, label fields and predictions data of job type dataset to the Openscale feedback table, configure the quality monitor and evaluate the quality metrics for each output.\n",
    "\n",
    "\n",
    "Note: Job type dataset can be downloaded from the <a href='https://www.kaggle.com/datasets/cactuscode7/job-descriptions-dataset'>Kaggle</a>. \n"
   ]
  },
  {
   "cell_type": "markdown",
   "metadata": {
    "id": "262ffb75c64b4523bfda24ea95d4b8f5"
   },
   "source": [
    "# Setup <a name=\"setup\"></a>"
   ]
  },
  {
   "cell_type": "markdown",
   "metadata": {
    "id": "3b7c0a42ac1e43139057e5d78abfe075"
   },
   "source": [
    "## Package installation"
   ]
  },
  {
   "cell_type": "code",
   "execution_count": null,
   "metadata": {
    "id": "dc441429a8ad4aada3fa29d81e98e5cf",
    "scrolled": true
   },
   "outputs": [],
   "source": [
    "!pip install --upgrade ibm-watson-machine-learning --user | tail -n 1\n",
    "!pip install --upgrade ibm-watson-openscale --no-cache | tail -n 1"
   ]
  },
  {
   "cell_type": "markdown",
   "metadata": {
    "id": "44f0e2adc53c4f04ba9647b031d88cb9"
   },
   "source": [
    "### Action: restart the kernel!"
   ]
  },
  {
   "cell_type": "code",
   "execution_count": null,
   "metadata": {
    "id": "827d92b4b8e1491e81d23153816f555c",
    "scrolled": true
   },
   "outputs": [],
   "source": [
    "import warnings\n",
    "warnings.filterwarnings('ignore')"
   ]
  },
  {
   "cell_type": "markdown",
   "metadata": {
    "id": "f8cdd3fa70d94b9c8e3bea9fc4c65e9f"
   },
   "source": [
    "## Configure credentials"
   ]
  },
  {
   "cell_type": "code",
   "execution_count": null,
   "metadata": {
    "id": "3473c155-e6dd-49fe-923e-af28ecfd655f",
    "scrolled": true
   },
   "outputs": [],
   "source": [
    "############################################################################################\n",
    "# Paste your Watson OpenScale credentials into the following section and then run this cell.\n",
    "############################################################################################\n",
    "\n",
    "WOS_CREDENTIALS = {\n",
    "    \"url\": \"<Cloud Pak for Data Host URL>\",\n",
    "    \"username\": \"<User>\",\n",
    "    \"apikey\": \"<User APIKey>\"\n",
    "}"
   ]
  },
  {
   "cell_type": "markdown",
   "metadata": {},
   "source": [
    "### Enter your Watson OpenScale GUID.\n",
    "\n",
    "For most systems, the default GUID is already entered for you. You would only need to update this particular entry if the GUID was changed from the default.\n",
    "\n"
   ]
  },
  {
   "cell_type": "code",
   "execution_count": null,
   "metadata": {},
   "outputs": [],
   "source": [
    "#Update your Watson OpenScale datamart id.\n",
    "WOS_GUID=\"00000000-0000-0000-0000-000000000000\""
   ]
  },
  {
   "cell_type": "markdown",
   "metadata": {
    "id": "b496c7a7-e5e8-464b-bac9-c634168be83f"
   },
   "source": [
    "###  Sample Multi-Output  data\n",
    "\n",
    "Openscale expects the multiple output columns to be in single array output column. User need to combine the multi target columns into single array and provide the output column names in the `prediction_output_names` field while creating the subscription.\n",
    "\n",
    "\n",
    "Job type dataset has 2 output columns `job_type` and `job_category`. We have generated the scored data for this dataset and will use that data to upload to the Openscale payload logging and feeback tables."
   ]
  },
  {
   "cell_type": "code",
   "execution_count": null,
   "metadata": {
    "id": "560012bd-0f36-4cac-a138-8f7068c3056a",
    "scrolled": true
   },
   "outputs": [],
   "source": [
    "#Sample record from Job type data set \n",
    "#job_description,job_type,category\n",
    "#\"Sales Specialist - Point of Care Diagnostics - South West/South Wales This well established and highly successful company is a leader in the supply of advanced point of \\\n",
    "#care diagnostic equipment to healthcare customers across the UK.With market leading products in POC clinical chemistry, haematology, blood gas, bowel cancer screening etc \\\n",
    "#it enjoys a great reputation with its customers and staff. The company is now looking for an enthusiastic and experienced sales specialist to work across the \\\n",
    "#South West of England, South Wales and Dorset promoting its high quality POC portfolio to rapid response and admission avoidance teams, primary care medical centres and hospitals.\",\n",
    "#\"Permanent\",\"Pharmaceutical, Healthcare and Medical Sales\"\n",
    "\n",
    "#Openscale Expected Format\n",
    "#job_description,job_type_category\n",
    "#\"Sales Specialist - Point of Care Diagnostics - South West/South Wales This well established and highly successful company is a leader in the supply of advanced point of \\\n",
    "#[\"Permanent\",\"Pharmaceutical, Healthcare and Medical Sales\"]"
   ]
  },
  {
   "cell_type": "markdown",
   "metadata": {
    "id": "2963bb1dc0064426839aa24a0ea45150"
   },
   "source": [
    "### Input Data\n",
    "\n",
    "Specify the `feature` fields and `label` columns of the dataset "
   ]
  },
  {
   "cell_type": "code",
   "execution_count": null,
   "metadata": {
    "id": "5abbe05c50fe46f28d692cb36fcfb81d",
    "scrolled": true
   },
   "outputs": [],
   "source": [
    "#List of the feature fields\n",
    "feature_fields=[\"job_description\"] \n",
    "\n",
    "#Name of the label field\n",
    "label_field_name = \"job_type_category\"\n",
    "\n",
    "#Names of the multiple output(target) columns in the dataset \n",
    "prediction_output_names = [\"job_type\",\"category\"]"
   ]
  },
  {
   "cell_type": "markdown",
   "metadata": {
    "id": "9b0707ac1440466492c933e7069aa015"
   },
   "source": [
    "# Configure OpenScale \n",
    "\n",
    "The notebook will now import the necessary libraries and set up a Python OpenScale client."
   ]
  },
  {
   "cell_type": "code",
   "execution_count": null,
   "metadata": {
    "id": "6b03734389aa45fb84321fadc60743e8",
    "scrolled": true
   },
   "outputs": [],
   "source": [
    "from ibm_watson_openscale import APIClient\n",
    "from ibm_watson_openscale.utils import *\n",
    "from ibm_watson_openscale.supporting_classes import *\n",
    "from ibm_watson_openscale.supporting_classes.enums import *\n",
    "from ibm_watson_openscale.base_classes.watson_open_scale_v2 import *\n",
    "from ibm_cloud_sdk_core.authenticators import CloudPakForDataAuthenticator\n",
    "\n",
    "import json\n",
    "import requests\n",
    "import base64\n",
    "from requests.auth import HTTPBasicAuth\n",
    "import time"
   ]
  },
  {
   "cell_type": "markdown",
   "metadata": {
    "id": "3043544c667e49d38cd70855d8ccb5ad"
   },
   "source": [
    "## Get a instance of the OpenScale SDK client"
   ]
  },
  {
   "cell_type": "code",
   "execution_count": null,
   "metadata": {
    "id": "d3d5b4df0a9f4d598a6cbd595700ae53",
    "scrolled": true
   },
   "outputs": [],
   "source": [
    "authenticator = CloudPakForDataAuthenticator(\n",
    "        url=WOS_CREDENTIALS['url'],\n",
    "        username=WOS_CREDENTIALS['username'],\n",
    "        apikey=WOS_CREDENTIALS['apikey'],\n",
    "        disable_ssl_verification=True\n",
    "    )\n",
    "wos_client = APIClient(service_url=WOS_CREDENTIALS['url'],authenticator=authenticator, service_instance_id=WOS_GUID)\n",
    "wos_client.version"
   ]
  },
  {
   "cell_type": "markdown",
   "metadata": {
    "id": "5dbc59b8112144b8a06e6c41a8301f0a"
   },
   "source": [
    "## OpenScale DataMart\n",
    "\n",
    "Watson OpenScale uses a database to store payload and feedback logs and calculated metrics. Here we are using already configured data mart."
   ]
  },
  {
   "cell_type": "code",
   "execution_count": null,
   "metadata": {
    "id": "ca368ed3793443da944e24b8b5e0d281",
    "scrolled": true
   },
   "outputs": [],
   "source": [
    "wos_client.data_marts.show()"
   ]
  },
  {
   "cell_type": "code",
   "execution_count": null,
   "metadata": {
    "id": "2966db92a2994a958136635144f05572",
    "scrolled": true
   },
   "outputs": [],
   "source": [
    "data_marts = wos_client.data_marts.list().result.data_marts\n",
    "data_mart_id=data_marts[0].metadata.id\n",
    "print('Using existing datamart {}'.format(data_mart_id))"
   ]
  },
  {
   "cell_type": "markdown",
   "metadata": {},
   "source": [
    "## Service Provider"
   ]
  },
  {
   "cell_type": "code",
   "execution_count": null,
   "metadata": {
    "id": "b61551bb00fa430b8595748c93a2dfb9",
    "scrolled": true
   },
   "outputs": [],
   "source": [
    "#Show the existing providers\n",
    "\n",
    "wos_client.service_providers.show()"
   ]
  },
  {
   "cell_type": "markdown",
   "metadata": {
    "id": "b1ecf806072240cd89af4324cb844744"
   },
   "source": [
    "## Remove existing service provider\n",
    "\n",
    "Multiple service providers for the same engine instance are avaiable in Watson OpenScale. To avoid multiple service providers of used WML instance in the tutorial notebook the following code deletes existing service provder(s) and then adds new one."
   ]
  },
  {
   "cell_type": "code",
   "execution_count": null,
   "metadata": {
    "id": "34534f784ac845438b54c6947d227ccb",
    "scrolled": true
   },
   "outputs": [],
   "source": [
    "SERVICE_PROVIDER_NAME = \"OpenScale Headless Service Provider\"\n",
    "SERVICE_PROVIDER_DESCRIPTION = \"Added by tutorial WOS notebook to showcase Multi output models functionality.\""
   ]
  },
  {
   "cell_type": "code",
   "execution_count": null,
   "metadata": {
    "id": "ebd41ed59d0a44b3837152bdd67e10fc",
    "scrolled": true
   },
   "outputs": [],
   "source": [
    "service_providers = wos_client.service_providers.list().result.service_providers\n",
    "for service_provider in service_providers:\n",
    "    service_instance_name = service_provider.entity.name\n",
    "    if service_instance_name == SERVICE_PROVIDER_NAME:\n",
    "        service_provider_id = service_provider.metadata.id\n",
    "        wos_client.service_providers.delete(service_provider_id)\n",
    "        print(\"Deleted existing service_provider for WML instance: {}\".format(service_provider_id))"
   ]
  },
  {
   "cell_type": "markdown",
   "metadata": {
    "id": "48cf5770290744c28274669a5af0103b"
   },
   "source": [
    "## Add service provider\n",
    "\n",
    "Watson OpenScale needs to be bound to the Watson Machine Learning instance to capture payload data into and out of the model.\n",
    "\n",
    "Note: Here the service provider is created with empty credentials, meaning no endpoint. Just to demonstrate the use case were we don't need an actual end point serving requests."
   ]
  },
  {
   "cell_type": "code",
   "execution_count": null,
   "metadata": {
    "id": "2d260d321cad475682aea0857c9b1054",
    "scrolled": true
   },
   "outputs": [],
   "source": [
    "MLCredentials = {}\n",
    "added_service_provider_result = wos_client.service_providers.add(\n",
    "        name=SERVICE_PROVIDER_NAME,\n",
    "        description=SERVICE_PROVIDER_DESCRIPTION,\n",
    "        service_type=ServiceTypes.CUSTOM_MACHINE_LEARNING,\n",
    "        operational_space_id = \"production\",\n",
    "        credentials=MLCredentials,\n",
    "        background_mode=False\n",
    "    ).result\n",
    "service_provider_id = added_service_provider_result.metadata.id"
   ]
  },
  {
   "cell_type": "code",
   "execution_count": null,
   "metadata": {
    "id": "eae202864f724fb9880ed31fadf75ac0",
    "scrolled": true
   },
   "outputs": [],
   "source": [
    "wos_client.service_providers.show()\n",
    "print(wos_client.service_providers.get(service_provider_id).result)"
   ]
  },
  {
   "cell_type": "markdown",
   "metadata": {
    "id": "09f4993d2caa48269b9832c7e9b145d6"
   },
   "source": [
    "## Subscriptions"
   ]
  },
  {
   "cell_type": "markdown",
   "metadata": {
    "id": "2e59906593c44bda97f79a9c35e728f6"
   },
   "source": [
    "Remove existing subscriptions\n",
    "\n",
    "This code removes previous subscriptions to the model to refresh the monitors with the new model and new data."
   ]
  },
  {
   "cell_type": "code",
   "execution_count": null,
   "metadata": {
    "id": "6b97d781684b401095188860bd0a3c96",
    "scrolled": true
   },
   "outputs": [],
   "source": [
    "wos_client.subscriptions.show()"
   ]
  },
  {
   "cell_type": "markdown",
   "metadata": {
    "id": "b0d085c8a875458b834992abd3577219"
   },
   "source": [
    "## Remove the existing subscription"
   ]
  },
  {
   "cell_type": "code",
   "execution_count": null,
   "metadata": {
    "id": "3084501d8ecc482282eaa59a7c4327f9",
    "scrolled": true
   },
   "outputs": [],
   "source": [
    "SUBSCRIPTION_NAME = \"Multi-Output Classification Headless Subscription\""
   ]
  },
  {
   "cell_type": "code",
   "execution_count": null,
   "metadata": {
    "id": "f5ef621a07cb4e468fca6cc62d22595e",
    "scrolled": true
   },
   "outputs": [],
   "source": [
    "subscriptions = wos_client.subscriptions.list().result.subscriptions\n",
    "for subscription in subscriptions:\n",
    "    if subscription.entity.asset.name == '[asset] ' + SUBSCRIPTION_NAME:\n",
    "        sub_model_id = subscription.metadata.id\n",
    "        wos_client.subscriptions.delete(subscription.metadata.id)\n",
    "        print('Deleted existing subscription for model', sub_model_id)"
   ]
  },
  {
   "cell_type": "markdown",
   "metadata": {
    "id": "d117477d751b4d6380d2feceac14450e"
   },
   "source": [
    "This code creates the model subscription in OpenScale using the Python client API. Note that we need to provide the model unique identifier, and some information about the model itself."
   ]
  },
  {
   "cell_type": "code",
   "execution_count": null,
   "metadata": {
    "id": "e2df727978ef4fbe8062c30a63944b6d",
    "scrolled": true
   },
   "outputs": [],
   "source": [
    "print(\"Data Mart ID: \" + data_mart_id)\n",
    "print(\"Service Provide ID: \" + service_provider_id)\n",
    "import uuid\n",
    "asset_id = str(uuid.uuid4())\n",
    "asset_name = '[asset] ' + SUBSCRIPTION_NAME\n",
    "url = None\n",
    "\n",
    "asset_deployment_id = str(uuid.uuid4())\n",
    "asset_deployment_name = asset_name"
   ]
  },
  {
   "cell_type": "code",
   "execution_count": null,
   "metadata": {
    "id": "1de20abba6d84c6c8ba84cd3ed3bc96e",
    "scrolled": true
   },
   "outputs": [],
   "source": [
    "subscription_details = wos_client.subscriptions.add(data_mart_id,\n",
    "    service_provider_id,\n",
    "    asset=Asset(\n",
    "        asset_id=asset_id,\n",
    "        name=asset_name,\n",
    "        url=url,\n",
    "        asset_type=AssetTypes.MODEL,\n",
    "        input_data_type=InputDataType.UNSTRUCTURED_TEXT,\n",
    "        problem_type=ProblemType.MULTICLASS_CLASSIFICATION\n",
    "    ),\n",
    "    deployment=AssetDeploymentRequest(name=\"deployment_\"+asset_name,\n",
    "                                     deployment_id=asset_id,\n",
    "                                     deployment_type= DeploymentTypes.ONLINE),\n",
    "    asset_properties=AssetPropertiesRequest(\n",
    "        probability_fields=[ \"probability\" ],\n",
    "        label_column=label_field_name,\n",
    "        prediction_field=\"prediction\",\n",
    "        prediction_names= prediction_output_names,\n",
    "        feature_fields = feature_fields,\n",
    "        categorical_fields = None\n",
    "    ),\n",
    "    deployment_name = asset_name,\n",
    "   background_mode=False\n",
    ").result\n",
    "\n",
    "subscription_id = subscription_details.metadata.id\n",
    "print(\"Subscription id {}\".format(subscription_id))\n",
    "\n"
   ]
  },
  {
   "cell_type": "code",
   "execution_count": null,
   "metadata": {
    "id": "630c6c85-dcaa-438f-a130-126aa92273d3",
    "scrolled": true
   },
   "outputs": [],
   "source": [
    "wos_client.subscriptions.get(subscription_id).result.to_dict()"
   ]
  },
  {
   "cell_type": "markdown",
   "metadata": {
    "id": "3661fcfa-bbdb-48bc-9597-2d195dce2e55"
   },
   "source": [
    "### The following code fetches the data set id, against which we would be performing the payload logging"
   ]
  },
  {
   "cell_type": "code",
   "execution_count": null,
   "metadata": {
    "id": "9dee41fc8ae2407483f7d08f7ecd9663",
    "scrolled": true
   },
   "outputs": [],
   "source": [
    "import time\n",
    "\n",
    "time.sleep(5)\n",
    "payload_data_set_id = None\n",
    "payload_data_set_id = wos_client.data_sets.list(type=DataSetTypes.PAYLOAD_LOGGING, \n",
    "                                                target_target_id=subscription_id, \n",
    "                                                target_target_type=TargetTypes.SUBSCRIPTION).result.data_sets[0].metadata.id\n",
    "if payload_data_set_id is None:\n",
    "    print(\"Payload data set not found. Please check subscription status.\")\n",
    "else:\n",
    "    print(\"Payload data set id:\", payload_data_set_id)"
   ]
  },
  {
   "cell_type": "markdown",
   "metadata": {
    "id": "2d75c57ab8914d70acdc3ed523675b1b"
   },
   "source": [
    "## Push a payload record to setup the required schemas in the subscription\n",
    "\n",
    "This is the location where one needs to fetch the output of the scoring model and construct the payload as per the OpenScale Payload Logging format.\n",
    "\n",
    "Note : No scoring is done against the model. The PayloadRecord is constructed as per the format required for the multi output models in Openscale with the request and response from the machine learning model "
   ]
  },
  {
   "cell_type": "markdown",
   "metadata": {
    "id": "7ea1d04fe73a452685847cfc4f780256"
   },
   "source": [
    "## Scoring Request Payload"
   ]
  },
  {
   "cell_type": "code",
   "execution_count": null,
   "metadata": {
    "id": "cb53d8ad950146bda2fd9ad017112835",
    "scrolled": true
   },
   "outputs": [],
   "source": [
    "scoring_request =   {\n",
    "        \"fields\": [\n",
    "            \"job_description\"\n",
    "           \n",
    "        ],\n",
    "        \"values\": [\n",
    "            [\"Zest Scientific searching accomplished Scientific Sales professional Netherlands. territory play pivotal role company increases presence Europe, presenting wealth untapped potential. client internationally recognized providing 'best class' solutions. region provides excellent growth opportunities motivated entrepreneurial Technical Sales Specialist. highly autonomous role input encouraged provided platform implement selling methods / business plan. Candidate: * demonstrate successful track record selling academic research, clinical diagnostics / hospital laboratories biotech accounts. * Ability learn new scientific concepts required 'hands on' approach supporting customers stages sales process. * Independent comfortable working limited support. * Enterprising willingness exceed customer expectations. * Excellent relationship builder class communicator. Role: * Responsible delivering annual sales plan, developing existing key accounts strategically identifying new development opportunities Clinical Diagnostics Laboratories / Clinical Chemistry. * Targeting high value potential customers leveraging influence existing accounts. * High degree autonomy (limited direct management) freedom carve profitable territory Netherlands. Company: * Global presence, offering 'best class' solutions. * Provides extensive house training company believes Technical Sales Specialist provide class post-sales support maintain close working relationships end users. * Currently experiencing excellent levels growth new product lines added portfolio, providing comprehensive solution Clinical Labs. Remuneration: order secure services right quality candidate client offering highly attractive salary commission package. Additional benefits include Car, Healthcare Pension. Zest Scientific working strict deadline order considered opportunity apply application reviewed immediately. Apply Ref no: 338477-2989\"]\n",
    "    ]\n",
    "    }"
   ]
  },
  {
   "cell_type": "markdown",
   "metadata": {
    "id": "3e469b9bf6cc4baa855d4954b28b5ff7"
   },
   "source": [
    "## Scoring Response Payload"
   ]
  },
  {
   "cell_type": "code",
   "execution_count": null,
   "metadata": {
    "id": "12303ea22a7146b2ab77b898a3fdffe2",
    "scrolled": true
   },
   "outputs": [],
   "source": [
    "scoring_response = {\n",
    "    \"predictions\": [\n",
    "        {\n",
    "            \"fields\": [\n",
    "                \"prediction\",\n",
    "                \"probability\"\n",
    "            ],\n",
    "            \"values\": [\n",
    "                 [['Permanent', 'Pharmaceutical, Healthcare and Medical Sales'],\n",
    "                  [[0.00040183096472598453, 8.667440726762661e-05, 5.9507069275522565e-05, 0.9994519875587308], \n",
    "                   [0.000165036231357427, 0.006449028871314254, 0.9933080247261301, 7.79101711981272e-05]\n",
    "                  ]\n",
    "                 ]\n",
    "            ]\n",
    "        }\n",
    "    ]\n",
    "}"
   ]
  },
  {
   "cell_type": "markdown",
   "metadata": {
    "id": "05df7f6b-eae1-4410-b07b-41b29dc6d6d1"
   },
   "source": [
    "### Construct the payload using the scoring_request and scoring_response and then log the records"
   ]
  },
  {
   "cell_type": "code",
   "execution_count": null,
   "metadata": {
    "id": "edb0cf12b0164869879f0ea101f520e0",
    "scrolled": true
   },
   "outputs": [],
   "source": [
    "from ibm_watson_openscale.supporting_classes.payload_record import PayloadRecord\n",
    "\n",
    "records_list=[]\n",
    "for x in range(2):\n",
    "    pl_record = PayloadRecord(request=scoring_request, response=scoring_response)\n",
    "    records_list.append(pl_record)\n",
    "\n",
    "wos_client.data_sets.store_records(data_set_id=payload_data_set_id, request_body=records_list)"
   ]
  },
  {
   "cell_type": "markdown",
   "metadata": {
    "id": "d93543a1-f474-4d69-b253-3966aed0a6b0"
   },
   "source": [
    "### Make sure the records reached the payload logging table inside the OpenScale DataMart."
   ]
  },
  {
   "cell_type": "code",
   "execution_count": null,
   "metadata": {
    "id": "933b5220cd9d4c5681f54308ce266ade",
    "scrolled": true
   },
   "outputs": [],
   "source": [
    "time.sleep(5)\n",
    "pl_records_count = wos_client.data_sets.get_records_count(payload_data_set_id)\n",
    "print(\"Number of records in the payload logging table: {}\".format(pl_records_count))\n",
    "if pl_records_count == 0:\n",
    "    raise Exception(\"Payload logging did not happen!\")"
   ]
  },
  {
   "cell_type": "markdown",
   "metadata": {
    "id": "9383640e6ca5477b9d0f2f3c9ea46885"
   },
   "source": [
    "## Fetch the subscription details to confirm output data schemas are setup"
   ]
  },
  {
   "cell_type": "code",
   "execution_count": null,
   "metadata": {
    "id": "f8fa3697195d4f02895b042e6add28b4",
    "scrolled": true
   },
   "outputs": [],
   "source": [
    "subscription = wos_client.subscriptions.get(subscription_id).result.to_dict()\n",
    "subscription"
   ]
  },
  {
   "cell_type": "markdown",
   "metadata": {
    "id": "864da785a62b4bb782651e7a89b04837"
   },
   "source": [
    "# Quality monitoring and feedback logging"
   ]
  },
  {
   "cell_type": "markdown",
   "metadata": {
    "id": "2cfa62a024bd4951827899957267c0ae"
   },
   "source": [
    "## Enable quality monitoring\n",
    "\n",
    "Evaluates the metrics for each target during the runtime evaluation and publishes the quality metrics for each target individually.\n",
    "\n",
    "First, it turns on the quality monitor and sets an alert threshold of 80%. OpenScale will show an alert on the dashboard if the model accuracy measurement falls below this threshold.\n",
    "\n",
    "The second paramater supplied, min_records, specifies the minimum number of feedback records OpenScale needs before it calculates a new measurement. The quality monitor runs hourly, but the accuracy reading in the dashboard will not change until an additional 10 feedback records have been added, via the user interface, the Python client, or the supplied feedback endpoint."
   ]
  },
  {
   "cell_type": "code",
   "execution_count": null,
   "metadata": {
    "id": "315eff5637f3499789af5bff0e952c27",
    "scrolled": true
   },
   "outputs": [],
   "source": [
    "import time\n",
    "\n",
    "target = Target(\n",
    "        target_type=TargetTypes.SUBSCRIPTION,\n",
    "        target_id=subscription_id\n",
    ")\n",
    "parameters = {\n",
    "    \"min_feedback_data_size\": 10\n",
    "}\n",
    "thresholds = [\n",
    "                {\n",
    "                    \"metric_id\": \"accuracy\",\n",
    "                    \"type\": \"lower_limit\",\n",
    "                    \"value\": .80\n",
    "                }\n",
    "            ]\n",
    "quality_monitor_details = wos_client.monitor_instances.create(\n",
    "    data_mart_id=data_mart_id,\n",
    "    background_mode=False,\n",
    "    monitor_definition_id=wos_client.monitor_definitions.MONITORS.QUALITY.ID,\n",
    "    target=target,\n",
    "    parameters=parameters,\n",
    "    thresholds=thresholds\n",
    ").result"
   ]
  },
  {
   "cell_type": "code",
   "execution_count": null,
   "metadata": {
    "id": "4854f81d452a4e41804bf69fffd23793",
    "scrolled": true
   },
   "outputs": [],
   "source": [
    "quality_monitor_instance_id = quality_monitor_details.metadata.id\n",
    "quality_monitor_instance_id"
   ]
  },
  {
   "cell_type": "markdown",
   "metadata": {
    "id": "37088b2299714a2d8a7ff123dca6f67b"
   },
   "source": [
    "## Get feedback logging dataset ID"
   ]
  },
  {
   "cell_type": "code",
   "execution_count": null,
   "metadata": {
    "id": "eb0240054545408e886dc81e11073107",
    "scrolled": true
   },
   "outputs": [],
   "source": [
    "feedback_dataset_id = None\n",
    "feedback_dataset = wos_client.data_sets.list(type=DataSetTypes.FEEDBACK, \n",
    "                                                target_target_id=subscription_id, \n",
    "                                                target_target_type=TargetTypes.SUBSCRIPTION).result\n",
    "feedback_dataset_id = feedback_dataset.data_sets[0].metadata.id\n",
    "if feedback_dataset_id is None:\n",
    "    print(\"Feedback data set not found. Please check quality monitor status.\")"
   ]
  },
  {
   "cell_type": "code",
   "execution_count": null,
   "metadata": {
    "id": "d3440261ffba406589148380ed0296a9",
    "scrolled": true
   },
   "outputs": [],
   "source": [
    "feedback_dataset_id"
   ]
  },
  {
   "cell_type": "markdown",
   "metadata": {},
   "source": [
    "### Store the feedback payload using OpenScale Python SDK\n",
    "\n",
    "Save the features, target column and scored data to the feedback table as per the Openscale multi-output payload format"
   ]
  },
  {
   "cell_type": "code",
   "execution_count": null,
   "metadata": {
    "id": "37812e16eee44208819af7dec9d14986",
    "scrolled": true
   },
   "outputs": [],
   "source": [
    "feedback_data = []\n",
    "feedback_payload =  {\n",
    "    \"fields\": [\n",
    "        \"job_description\",\n",
    "        \"job_type_category\", \"_original_prediction\", \"_original_probability\"\n",
    "\n",
    "    ],\n",
    "    \"values\": [\n",
    "        [\"Field Service Engineer - Life Science Cambridge & Surrounding Areas Reporting Life Science Supervisor, Field Service Engineer provides aspects service support main face company customers. successful applicant supporting Centrifugation & Automation products Cambridge area allow easy access customers region. position instrumental providing high level support, requiring close interaction customer colleagues maintain quality service. Adhering customer focused strategies achieve business goals, increase customer satisfaction position Service Support positive sales differentiator increasingly competitive market. position time, days week. working days include Saturday Sunday Company requires. position primarily supporting customers London area, necessary travel regions Company requires. Main Roles Responsibilities: Develop maintain good working relationship customer Achieve departmental goals objectives meet Company's operational plan Work closely internal departments build relationships results timely implementation, installation pro-live support Ensure Preventative Maintenance Inspections modifications completed specified time frames Ensure accurate completion paperwork receipts Contribute environment quality perceived culture Maintain accurate record boot stock Adhere Company policies procedures Requirements: minimum HNC (or equivalent) relevant technical subject Minimum 2 years Field Service experience Good interpersonal skills ability communicate effectively internally externally levels Proven track record technical service organisation\",\n",
    "            [\"Permanent\", \"Manufacturing & Operations\"],\n",
    "            [\"Permanent\", \"Manufacturing & Operations\"],\n",
    "            [\n",
    "                [0.0008271883892251415, 0.0001905242239474885, 0.0001257367882981827, 0.9988565505985292],\n",
    "                [0.0001412213500395188, 0.9953277971306047, 0.003789043421195452, 0.0007419380981605825]\n",
    "            ]\n",
    "        ],\n",
    "        [\"Company: Benecol Position: Account Manager Territory: Bristol/South Wales/Gloucester Vacancy Type: Part-time Salary: Competitive Therapy Area: Nutrition Ashfield delighted recruiting Account Managers client Benecol. Benecol number cholesterol-lowering brand. Benecol foods launched UK Ireland 1999, range includes spreads, yogurts mini drinks. Today, Benecol foods range products preferred trusted millions people world delicious, convenient proven way lower cholesterol UK, Benecol number cholesterol-lowering food brand, continuing innovate bring new products market year. looking Account Managers support growth established brand raise awareness benefits Benecol deliver patients struggling high cholesterol. Key Responsibilities: Develop implement agreed territory Business Plans Design implement business territory plan line Benecol objectives Achieve positive endorsement Benecol product range influence HCPs Upskill\",\n",
    "         [\"Part-Time\", \"Pharmaceutical, Healthcare and Medical Sales\"],\n",
    "            [\"Part-Time\", \"Pharmaceutical, Healthcare and Medical Sales\"],\n",
    "            [[0.00017962062635380117, 0.00032392943350308866, 0.9842118268793946, 0.01528462306074844], \n",
    "             [2.0332798233189208e-05, 0.0003142799288142808, 0.9996487536164178, 1.6633656534704604e-05]\n",
    "            ]\n",
    "        ],\n",
    "        [\"Jim Gleeson recruiting Quality Assurance Associate join successful, mid-sized international pharmaceutical company good portfolio products market strong pipeline development. contract role months. RESPONSIBILITIES Quality Assurance Associate support Head Quality Assurance wide range operational coordination support activities. Key duties include: - Maintenance Quality Management System, databases training records - Contribution development maintenance company SOPs - Taking minutes QA-led meetings - Acting company's authorised personnel Document Storage Room QUALIFICATIONS Quality Assurance Associate require following: - relevant science nursing degree - QA administration experience gained CRO pharmaceutical company environment - Excellent communication, organisational time management skills - high degree literacy APPLY information apply Quality Assurance Associate position contact Jim Gleeson\",\n",
    "             [\"Contract/Temp\", \"Quality-assurance\"],\n",
    "             [\"Contract/Temp\", \"Quality-assurance\"],\n",
    "             [[0.00480696003180402, 0.9818955745604192, 0.0005742707769595733, 0.012723194630817124], \n",
    "              [0.0014341676263572817, 0.013487925015221662, 0.0019171066525658928, 0.9831608007058551]\n",
    "             ]\n",
    "\n",
    "        ],\n",
    "        [\"looking advance career clinical trials space? want work leading multinational organisation, renown industry meteoric rise success dependability deliver global contracts multiple therapeutic areas phases? looking play integral role future medicine globe? so, opportunity you: excellent opportunity candidate scientific background exposure clinical trials pharmaceutical industry play implemental role driving organisation success. Package description Synexus great team professional, smart energetic people. focus continued professional development, engaging supporting team inorder reach common goals business. offer competitive benefits package consisting of, limited to, 25 days annual leave, Life Assurance, Private Health Insurance*, Target Bonus Scheme, Childcare Vouchers, Healthcare Cash Plan, Employees Assistance programme high street discount scheme. * Dependent role Main responsibilities Data Coordinator 2you provide support data coordinators project related duties including ensuring accuracy data, producing guidelines data entry process entering data electronic data capture systems. develop data entry data cleaning processes according timelines, track CRF query totals projects. key accountabilities be: * Coordinating multiple projects whilst ensuring study documentation accurate date correct versions * reporting tools provide accurate weekly figures project managers * Following guidelines data entry process studies * Maintaining database track flow CRFs queries\",     \n",
    "            [\"Permanent\", \"Data Management and Statistics\"],\n",
    "            [\"Permanent\", \"Data Management and Statistics\"],\n",
    "            [\n",
    "                [0.0016243309797038675, 5.426366978393848e-05, 3.772544649173256e-05, 0.9982836799040206],\n",
    "                [0.9931888338647511, 0.0033713906851491043, 0.00013840429061979067, 0.0033013711594797705]\n",
    "            ]\n",
    "        ],\n",
    "        [\"MEDICAL REPRESENTATIVE - SUFFOLK client renowned pharmaceutical company strong commitment health care. truly global company, products sold 100 countries world-wide. drive excellence do, coupled dynamic culture company makes exciting rewarding place work. People greatest resource invest great deal developing people maximum potential. new position Primary Secondary Care Diabetes business. Candidates demonstrate tangibly personal sales successes capabilities including outstanding teamwork, influencing skills ability problem solve. employer choice offers excellent basic salary, competitive bonus benefits package. CHASE [Phone number removed] apply line Apply Ref no: 248128-HO020209\",\n",
    "            [\"Contract/Interim\", \"Pharmaceutical, Healthcare and Medical Sales\"],\n",
    "            [\"Permanent\", \"Pharmaceutical, Healthcare and Medical Sales\"],\n",
    "            [[0.005345609796164804, 0.0004323382677841009, 0.0005000226300820948, 0.993722029305969], \n",
    "             [0.008910298536723994, 0.09269483553034599, 0.8894957286714953, 0.00889913726143468]\n",
    "            ]\n",
    "        ]\n",
    "    ]\n",
    " }\n"
   ]
  },
  {
   "cell_type": "code",
   "execution_count": null,
   "metadata": {},
   "outputs": [],
   "source": [
    "for i in range(4):\n",
    "    feedback_data.append(feedback_payload)\n",
    "wos_client.data_sets.store_records(feedback_dataset_id, request_body=feedback_data, background_mode=False)"
   ]
  },
  {
   "cell_type": "markdown",
   "metadata": {},
   "source": [
    "### Wait for sometime, and make sure the records have reached to feedback table."
   ]
  },
  {
   "cell_type": "code",
   "execution_count": null,
   "metadata": {},
   "outputs": [],
   "source": [
    "time.sleep(5)\n",
    "feedback_records_count = wos_client.data_sets.get_records_count(feedback_dataset_id)\n",
    "print(\"Number of records in the feedback logging table: {}\".format(feedback_records_count))\n",
    "if feedback_records_count == 0:\n",
    "    raise Exception(\"feedback logging did not happen!\")\n"
   ]
  },
  {
   "cell_type": "markdown",
   "metadata": {
    "id": "96bdfc3a376d44a585432889b033f060"
   },
   "source": [
    "## Run Quality Monitor"
   ]
  },
  {
   "cell_type": "code",
   "execution_count": null,
   "metadata": {
    "id": "adfd17e52f3e4c4f88c4fe8016c4d6b0",
    "scrolled": true
   },
   "outputs": [],
   "source": [
    "run_details = wos_client.monitor_instances.run(monitor_instance_id=quality_monitor_instance_id, background_mode=False).result"
   ]
  },
  {
   "cell_type": "markdown",
   "metadata": {},
   "source": [
    "### Show Metrics\n",
    "\n",
    "Shows the quality metrics for each target column"
   ]
  },
  {
   "cell_type": "code",
   "execution_count": null,
   "metadata": {
    "id": "9067577f098247d6bceb49f733097b75",
    "scrolled": true
   },
   "outputs": [],
   "source": [
    "wos_client.monitor_instances.show_metrics(monitor_instance_id=quality_monitor_instance_id,limit=100)"
   ]
  },
  {
   "cell_type": "markdown",
   "metadata": {},
   "source": [
    "Congratulations!\n",
    "\n",
    "You have finished configuring and evaluating quality monitor for multi output models in IBM Watson OpenScale.\n"
   ]
  },
  {
   "cell_type": "markdown",
   "metadata": {
    "id": "03db2a8db59c417b89348fa82c665260"
   },
   "source": [
    "<!-- ### Run on-demand Fairness\n",
    "If you would like to peform an on-demand fairness check, then we need to score a fresh set of data with meta-fields, so that they would be used for indirect bias checking. So the below two cells will score and make sure these records are reached to payload logging table. -->"
   ]
  }
 ],
 "metadata": {
  "kernelspec": {
   "display_name": "Python 3 (ipykernel)",
   "language": "python",
   "name": "python3"
  },
  "language_info": {
   "codemirror_mode": {
    "name": "ipython",
    "version": 3
   },
   "file_extension": ".py",
   "mimetype": "text/x-python",
   "name": "python",
   "nbconvert_exporter": "python",
   "pygments_lexer": "ipython3",
   "version": "3.9.16"
  },
  "vscode": {
   "interpreter": {
    "hash": "dbf53fce1b4f805dfa7248c873cd5919f94c1d61eaf85ef20024e88fdf9444a6"
   }
  }
 },
 "nbformat": 4,
 "nbformat_minor": 1
}
