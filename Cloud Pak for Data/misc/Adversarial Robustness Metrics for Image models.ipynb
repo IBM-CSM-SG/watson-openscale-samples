{
 "cells": [
  {
   "cell_type": "markdown",
   "id": "f07689f8-7b01-4145-a607-53c9ad881f2d",
   "metadata": {},
   "source": [
    "This notebook demonstrates the evaluation and monitoring of the robustness of a machine learning model on continuous input data by calculating the `Adversarial Accuracy` metric as a function of the size of adversarial perturbations, created by adversarial attacks, added to the input data. \n",
    "Adversarial Accuracy is defined as the classification accuracy of the model on adversarial examples, which are minimally perturbed versions of the original samples that are usually found across the nearest decision boundary of the model. Especially in images, these perturbations are hardly recognisable and look like small noise to the human eye but result in misclassification by the model. The same definitions, interpretations and tools are valid for tabular/structured data, but images are nicer to visualise in a notebook. <br>\n",
    "\n",
    "This notebook uses two models, a normally trained default model and an adversarially trained model, for classification of the MNIST dataset of images showing hand-written digits. We evaluate the base robustness of the default model on the training and test datasets by computing the `adversarial_accuracy` metric as a function of input perturbation size (also called adversarial accuracy curve), using a white-box evasion attack called Projected Gradient Descent (PGD) of the Adversarial Robustness Toolbox (ART) and the ibm_metrics_plugin python library. <br>\n",
    "\n",
    "We repeat this evaluation on the robust model that has been adversarially trained to increase its robustness and compare its adversarial accuracy curve with the one previously obtained on the default model. This step allows us to demonstrate the interpretations and utility of adversarial accuracy curves in selecting the most robust model and to discuss the metrics which should be continuously monitored in deployment to track changes in robustness over time.\n",
    "\n",
    "In the second half of the notebook, we repeat these evaluations for the default and robust models, using a `black-box evasion` attack that does not require a differentiable model, which means it can work with the model's scoring endpoint alone. The black-box-attack is minimising the required perturbations which means it tries to find the shortest distance of a sample to the model's decision boundary. Using a histogram method, we demonstrate how to transfer these observed minimised perturbation sizes into metrics that can be continuously monitored.\n",
    "\n",
    "Finally, we will demonstrate an additional benefit of applying adversarial black-box evasion attacks to each payload of a deployed model. By applying the attack to batches of benign and adversarial examples to obtain their respective adversarial accuracy curves, we demonstrate how these metrics help to `detect adversarial examples` (samples that are very close to a decision boundary of the model) or to `detect drift` in the input data (by monitoring the change of the payloads' distribution of distances to the decision boundary).\n"
   ]
  },
  {
   "cell_type": "markdown",
   "id": "b3fbe05f-ec32-4234-b363-5306effc3e6f",
   "metadata": {},
   "source": [
    "## SetUp"
   ]
  },
  {
   "cell_type": "markdown",
   "id": "f72b6ba9-fcbe-4430-9874-2b00bf667e91",
   "metadata": {},
   "source": [
    "### Installing required libraries"
   ]
  },
  {
   "cell_type": "code",
   "execution_count": 7,
   "id": "8e3d50d9-79ef-40f1-8579-986ce7ed591c",
   "metadata": {},
   "outputs": [],
   "source": [
    "import warnings\n",
    "warnings.filterwarnings(\"ignore\")"
   ]
  },
  {
   "cell_type": "code",
   "execution_count": null,
   "id": "0aea2e2d-19e5-4963-86c3-972ececac627",
   "metadata": {},
   "outputs": [],
   "source": [
    "!pip install adversarial-robustness-toolbox\n",
    "!pip install --upgrade --user ibm-watson-openscale --no-cache | tail -n 1\n",
    "!pip install --upgrade --user ibm_metrics_plugin --no-cache | tail -n 1\n",
    "!pip install numpy==1.23.5\n",
    "!pip install --upgrade pyspark==3.3.1 | tail -n 1\n",
    "!pip install tensorflow\n",
    "!pip install wget"
   ]
  },
  {
   "cell_type": "markdown",
   "id": "d5c78524-c665-4d27-b84e-14feb7c69c1c",
   "metadata": {},
   "source": [
    "### Action: Restart the Kernel!"
   ]
  },
  {
   "cell_type": "code",
   "execution_count": 9,
   "id": "abc865d2-de11-41de-87c2-3bc6918dd504",
   "metadata": {},
   "outputs": [],
   "source": [
    "import numpy as np\n",
    "import tensorflow as tf\n",
    "import pandas as pd\n",
    "from pyspark.sql import SparkSession\n",
    "from pyspark import SparkContext, SparkConf\n",
    "from tensorflow.keras import backend as keras_backend\n",
    "from tensorflow.keras.datasets import mnist\n",
    "from tensorflow.keras.models import Sequential\n",
    "from tensorflow.keras.utils import to_categorical\n",
    "from tensorflow.keras.layers import Conv2D, MaxPooling2D, Dense, Dropout, Flatten\n",
    "from tensorflow.keras.losses import categorical_crossentropy\n",
    "from tensorflow.keras.optimizers.legacy import Adadelta\n",
    "from ibm_watson_openscale import APIClient as OpenScaleAPIClient\n",
    "from ibm_cloud_sdk_core.authenticators import IAMAuthenticator, CloudPakForDataAuthenticator\n",
    "from ibm_watson_openscale.supporting_classes.enums import TargetTypes,ServiceTypes\n",
    "from ibm_watson_openscale.base_classes.watson_open_scale_v2 import *"
   ]
  },
  {
   "cell_type": "code",
   "execution_count": 10,
   "id": "212ac188-96dc-41d4-84a1-afc73e6cd6e5",
   "metadata": {},
   "outputs": [],
   "source": [
    "tf_version = [int(v) for v in tf.__version__.split(\".\")]\n",
    "if tf_version[0] == 2 and tf_version[1] >= 3:\n",
    "    tf.compat.v1.disable_eager_execution()\n",
    "    from tensorflow import keras\n",
    "    from tensorflow.keras.models import Sequential\n",
    "    from tensorflow.keras.layers import Dense, Flatten, Conv2D, MaxPooling2D\n",
    "else:\n",
    "    import keras\n",
    "    from keras.models import Sequential\n",
    "    from keras.layers import Dense, Flatten, Conv2D, MaxPooling2D"
   ]
  },
  {
   "cell_type": "markdown",
   "id": "2b4ddf73-2124-4b76-8d02-13c0c4979a8e",
   "metadata": {},
   "source": [
    "### Load the mnist training data"
   ]
  },
  {
   "cell_type": "code",
   "execution_count": 11,
   "id": "013db2ac-cdd6-4c3b-b31a-85979020379d",
   "metadata": {},
   "outputs": [],
   "source": [
    "# pre define the variables\n",
    "batch_size = 128\n",
    "num_classes = 10\n",
    "epochs = 6"
   ]
  },
  {
   "cell_type": "code",
   "execution_count": 12,
   "id": "937d2820-163a-452e-b7eb-7921845f775c",
   "metadata": {},
   "outputs": [
    {
     "name": "stdout",
     "output_type": "stream",
     "text": [
      "x_train shape: (60000, 28, 28, 1)\n",
      "60000 train samples\n",
      "10000 test samples\n"
     ]
    }
   ],
   "source": [
    "# input image dimensions\n",
    "img_rows, img_cols = 28, 28\n",
    "\n",
    "# the data, split between train and test sets\n",
    "(x_train, y_train), (x_test, y_test) = mnist.load_data()\n",
    "\n",
    "if keras_backend.image_data_format() == 'channels_first':\n",
    "    x_train = x_train.reshape(x_train.shape[0], 1, img_rows, img_cols)\n",
    "    x_test = x_test.reshape(x_test.shape[0], 1, img_rows, img_cols)\n",
    "    input_shape = (1, img_rows, img_cols)\n",
    "else:\n",
    "    x_train = x_train.reshape(x_train.shape[0], img_rows, img_cols, 1)\n",
    "    x_test = x_test.reshape(x_test.shape[0], img_rows, img_cols, 1)\n",
    "    input_shape = (img_rows, img_cols, 1)\n",
    "\n",
    "x_train = x_train.astype('float32')\n",
    "x_test = x_test.astype('float32')\n",
    "x_train /= 255\n",
    "x_test /= 255\n",
    "\n",
    "print('x_train shape:', x_train.shape)\n",
    "print(x_train.shape[0], 'train samples')\n",
    "print(x_test.shape[0], 'test samples')"
   ]
  },
  {
   "cell_type": "code",
   "execution_count": 13,
   "id": "1c775289-7d0b-47b7-ba51-d106741a8e41",
   "metadata": {},
   "outputs": [],
   "source": [
    "# one hot encode target values\n",
    "y_train = to_categorical(y_train, num_classes)\n",
    "y_test = to_categorical(y_test, num_classes)"
   ]
  },
  {
   "cell_type": "markdown",
   "id": "e141984c-f251-4158-a220-5f0970cc9a1f",
   "metadata": {},
   "source": [
    "### Create MNIST model"
   ]
  },
  {
   "cell_type": "code",
   "execution_count": 14,
   "id": "19a2248a-e67c-4f12-afc8-10f59fbee0be",
   "metadata": {},
   "outputs": [],
   "source": [
    "model = Sequential()\n",
    "model.add(Conv2D(32, kernel_size=(3, 3), activation='relu', input_shape=input_shape))\n",
    "model.add(Conv2D(64, (3, 3), activation='relu'))\n",
    "model.add(MaxPooling2D(pool_size=(2, 2)))\n",
    "model.add(Dropout(0.25))\n",
    "model.add(Flatten())\n",
    "model.add(Dense(128, activation='relu'))\n",
    "model.add(Dropout(0.5))\n",
    "model.add(Dense(num_classes, activation='softmax'))\n",
    "\n",
    "model.compile(loss=categorical_crossentropy,\n",
    "              optimizer=Adadelta(),\n",
    "              metrics=['accuracy'])"
   ]
  },
  {
   "cell_type": "code",
   "execution_count": 15,
   "id": "4b2e0bec-5fb5-4862-90b3-a82731b24303",
   "metadata": {},
   "outputs": [
    {
     "name": "stdout",
     "output_type": "stream",
     "text": [
      "Train on 60000 samples\n",
      "Epoch 1/6\n",
      "60000/60000 [==============================] - 31s 519us/sample - loss: 2.2738 - accuracy: 0.1533\n",
      "Epoch 2/6\n",
      "60000/60000 [==============================] - 32s 533us/sample - loss: 2.2049 - accuracy: 0.2690\n",
      "Epoch 3/6\n",
      "60000/60000 [==============================] - 32s 541us/sample - loss: 2.1179 - accuracy: 0.3745\n",
      "Epoch 4/6\n",
      "60000/60000 [==============================] - 32s 542us/sample - loss: 2.0046 - accuracy: 0.4603\n",
      "Epoch 5/6\n",
      "60000/60000 [==============================] - 35s 576us/sample - loss: 1.8594 - accuracy: 0.5282\n",
      "Epoch 6/6\n",
      "60000/60000 [==============================] - 37s 616us/sample - loss: 1.6955 - accuracy: 0.5786\n"
     ]
    },
    {
     "data": {
      "text/plain": [
       "<keras.callbacks.History at 0x7f8ee1482e80>"
      ]
     },
     "execution_count": 15,
     "metadata": {},
     "output_type": "execute_result"
    }
   ],
   "source": [
    "# Fit the model on training data\n",
    "model.fit(x_train, y_train, batch_size=batch_size, epochs=epochs)"
   ]
  },
  {
   "cell_type": "markdown",
   "id": "68bdf990-873e-4878-b4f0-6954e9cd7da5",
   "metadata": {},
   "source": [
    "We will now see a small demonstration of how an adversarial example can change the model's prediction. First, we will plot the first image in the training data and check the model's prediction for this data point. Then, we will create an adversarial example for the same image in the training data. This adversarial image will look exactly similar to the original image in the training data. But the model will predict this as a different image."
   ]
  },
  {
   "cell_type": "code",
   "execution_count": 16,
   "id": "05986020-fc7c-4fb9-997b-9e7f9339e213",
   "metadata": {},
   "outputs": [
    {
     "data": {
      "image/png": "[encoded data removed]",
      "text/plain": [
       "<Figure size 432x288 with 1 Axes>"
      ]
     },
     "metadata": {
      "needs_background": "light"
     },
     "output_type": "display_data"
    },
    {
     "name": "stdout",
     "output_type": "stream",
     "text": [
      "Model's Prediction for the input image:3\n"
     ]
    }
   ],
   "source": [
    "import numpy as np\n",
    "import matplotlib.pyplot as plt\n",
    "\n",
    "%matplotlib inline \n",
    "img = np.array(x_train[0], dtype='float')\n",
    "pixels = img.reshape((28, 28))\n",
    "plt.imshow(pixels, cmap='gray')\n",
    "plt.show()\n",
    "\n",
    "print(\"Model's Prediction for the input image:\" + str(np.argmax(model.predict(x=x_train[:1]))))"
   ]
  },
  {
   "cell_type": "code",
   "execution_count": 17,
   "id": "d388db56-67e7-42cb-996e-bec2b564153e",
   "metadata": {},
   "outputs": [],
   "source": [
    "def scoring_fn(x):\n",
    "    res = to_categorical(np.argmax(model.predict(x), axis=1), 10)\n",
    "    return res"
   ]
  },
  {
   "cell_type": "code",
   "execution_count": 18,
   "id": "a03787b0-66ed-4941-b278-de1534069255",
   "metadata": {},
   "outputs": [
    {
     "data": {
      "application/vnd.jupyter.widget-view+json": {
       "model_id": "c610afc74b584dbfaa123f0651fac1fd",
       "version_major": 2,
       "version_minor": 0
      },
      "text/plain": [
       "HopSkipJump:   0%|          | 0/1 [00:00<?, ?it/s]"
      ]
     },
     "metadata": {},
     "output_type": "display_data"
    }
   ],
   "source": [
    "from art.attacks.evasion.hop_skip_jump import HopSkipJump\n",
    "from art.estimators.classification import BlackBoxClassifier\n",
    "\n",
    "# Create art classifier, which is a wrapper on top of the original model\n",
    "art_classifier = BlackBoxClassifier(predict_fn=scoring_fn, input_shape=x_train[0].shape, \n",
    "                                            nb_classes=10, clip_values=(0, 255))\n",
    "\n",
    "adv_example = HopSkipJump(art_classifier).generate(x_train[:1], y=y_train[:1])\n"
   ]
  },
  {
   "cell_type": "code",
   "execution_count": 19,
   "id": "5ff537de-7a6b-4d7d-bd51-86279551c1da",
   "metadata": {},
   "outputs": [
    {
     "data": {
      "image/png": "[encoded data removed]",
      "text/plain": [
       "<Figure size 432x288 with 1 Axes>"
      ]
     },
     "metadata": {
      "needs_background": "light"
     },
     "output_type": "display_data"
    },
    {
     "name": "stdout",
     "output_type": "stream",
     "text": [
      "Model's Prediction for the adversarial image: 0\n"
     ]
    }
   ],
   "source": [
    "%matplotlib inline \n",
    "img = np.array(adv_example, dtype='float')\n",
    "pixels = img.reshape((28, 28))\n",
    "plt.imshow(pixels, cmap='gray')\n",
    "plt.show()\n",
    "\n",
    "print(\"Model's Prediction for the adversarial image: \" + str(np.argmax(model.predict(x=adv_example[:1]))))"
   ]
  },
  {
   "cell_type": "markdown",
   "id": "4cec22f2-fa78-4297-9ff7-3910ea1a0ef3",
   "metadata": {},
   "source": [
    "### Configure Watson Openscale"
   ]
  },
  {
   "cell_type": "code",
   "execution_count": 10,
   "id": "8c0c5a87-e0ce-45a9-b642-76aab600cda7",
   "metadata": {},
   "outputs": [],
   "source": [
    "WOS_CREDENTIALS = {\n",
    "    \"url\": \"\",\n",
    "    \"username\": \"\",\n",
    "    \"password\": \"\",\n",
    "    \"instance_id\": \"\"\n",
    "}"
   ]
  },
  {
   "cell_type": "markdown",
   "id": "60734b88-6264-43d8-8e9a-fbab9bd319ce",
   "metadata": {},
   "source": [
    "### Set Up Openscale client"
   ]
  },
  {
   "cell_type": "code",
   "execution_count": 11,
   "id": "3ef35688-86ee-4227-82b7-24ca746cce14",
   "metadata": {},
   "outputs": [
    {
     "name": "stdout",
     "output_type": "stream",
     "text": [
      "3.0.31\n"
     ]
    }
   ],
   "source": [
    "authenticator = CloudPakForDataAuthenticator(\n",
    "    url=WOS_CREDENTIALS[\"url\"],\n",
    "    username=WOS_CREDENTIALS[\"username\"],\n",
    "    password=WOS_CREDENTIALS[\"password\"],\n",
    "    disable_ssl_verification=True\n",
    ")\n",
    "\n",
    "client = OpenScaleAPIClient(\n",
    "    service_url=WOS_CREDENTIALS[\"url\"],\n",
    "    service_instance_id=WOS_CREDENTIALS[\"instance_id\"],\n",
    "    authenticator=authenticator\n",
    ")\n",
    "\n",
    "print(client.version)"
   ]
  },
  {
   "cell_type": "markdown",
   "id": "e5a36fc2-0137-46dc-b37d-8788ea62e3c9",
   "metadata": {},
   "source": [
    "### Initialize spark session"
   ]
  },
  {
   "cell_type": "code",
   "execution_count": null,
   "id": "89adfdf6-b312-4df2-b6d6-34247179e6af",
   "metadata": {},
   "outputs": [],
   "source": [
    "from pyspark.sql import SparkSession\n",
    "from pyspark import SparkContext, SparkConf\n",
    "import pandas as pd\n",
    "\n",
    "sparkconf = SparkConf().setMaster(\"local[*]\")\n",
    "spark = SparkSession.builder.appName(\"TestMetricFramework\").config(conf=sparkconf).getOrCreate()\n",
    "spark.sparkContext._conf.getAll()"
   ]
  },
  {
   "cell_type": "markdown",
   "id": "f8fc17e8-5124-4bb6-bbe0-08c461fd7e2f",
   "metadata": {},
   "source": [
    "### Provide the following configuration parameters to compute Adversarial Accuracy metric. <br>\n",
    "\n",
    "If no parameters are mentioned under Adversarial accuracy, the default HopSkipJump attack will be used for computing adversarial accuracy. <br>\n",
    "\n",
    "- metrics_configuration: The metrics configuration parameters. <br>\n",
    "    - model: A trained model. This is required only if the attack_type is whitebox.<br>\n",
    "    - model_type: Type of the model, either keras, tensorflow or blackbox. <br>\n",
    "    - input_data_type: The data type of the input data, ART metrics are only supported for image models. <br>\n",
    "    - number_of_classes: The number of classes in the training data <br>\n",
    "    - input_shape: Required for model_type `tensorflow`. shape of the training data in the form of a tuple, for example, (224, 224, 3). <br>\n",
    "    - loss_object: optional parameter for tensorflow models. loss_object of type tf.keras.losses <br>\n",
    "    - optimizer: optional parameter for tensorflow models. optimizer of type tf.keras.optimizers <br>\n",
    "    \n",
    "    - Adversarial_Accuracy: The parameters needed for computing the metric. <br>\n",
    "    - Supported parameters for Adversarial_Accuracy: <br>\n",
    "        - attack_budgets(Optional): perturbation sizes, as an array for the attacks to be performed. <br>\n",
    "        - attack_name(Optional) : Name of the attack. Supported values are [\"auto\", \"fgsm\", \"hsj\"] <br>\n",
    "        - attack_crafter(Optional): EvasionAttack instance to create adversarial examples. <br>\n",
    "        For example, HopSkipJump(model,  {\"max_iter\": 30, \"max_eval\": 100, \"init_eval\": 10, \"init_size\": 10}) <br>\n",
    "        - attack_type(Optional): Type of the attack to be performed. Supported values are \"whitebox\", \"blackbox\". Default blackbox attack will be used if no value is provided. Please note that it is mandatory to provide scoring_fn for black box attacks.<br>\n",
    "\n",
    "Training data should be specified as part of TrainTestData object to compute adversarial accuracy metric.\n"
   ]
  },
  {
   "cell_type": "code",
   "execution_count": 91,
   "id": "6fba740b-8839-46e3-b42e-7ef88f8236be",
   "metadata": {},
   "outputs": [],
   "source": [
    "#Set metrics plugin level configuration\n",
    "from ibm_metrics_plugin.common.utils.constants import ARTMetricType, InputDataType\n",
    "from ibm_metrics_plugin.common.entity.config import TrainTestData\n",
    "\n",
    "configuration = {}\n",
    "train_test_data = TrainTestData(x_train=x_train, y_train=y_train)   \n",
    "\n",
    "configuration[\"configuration\"] = {\n",
    "                \"art\":{\n",
    "                    \"metrics_configuration\":{\n",
    "                        \"model\": model,\n",
    "                        \"model_type\": \"keras\",\n",
    "                        \"input_data_type\": InputDataType.IMAGE.value,\n",
    "                        ARTMetricType.ADVERSARIAL_ACCURACY.value:{\n",
    "                            \"attack_type\": \"whitebox\",\n",
    "                            \"max_iterations\": 200, # optional parameter, max number of iterations to run the PGD attack\n",
    "                            \"eps_step\": 0.1, # attack step size at each iteration (optional parameter) \n",
    "                            \"attack_budgets\": [i / 255 for i in range(1, 128, 2)]\n",
    "                            }\n",
    "                        \n",
    "                    }\n",
    "                }\n",
    "            }"
   ]
  },
  {
   "cell_type": "markdown",
   "id": "7d7518f2-f865-41a5-bc5a-1c5b0ee17066",
   "metadata": {},
   "source": [
    "### Compute the Adversarial Accuracy metric for various perturbation sizes. "
   ]
  },
  {
   "cell_type": "code",
   "execution_count": 92,
   "id": "8aa8363d-db0e-4833-a58c-1c887773bd18",
   "metadata": {},
   "outputs": [],
   "source": [
    "default_model_results = client.ai_metrics.compute_metrics(spark=spark, configuration=configuration, data_frame=pd.DataFrame(), train_test_data=train_test_data)"
   ]
  },
  {
   "cell_type": "code",
   "execution_count": 93,
   "id": "076e912c-1775-4329-868d-4aa6b5077ab2",
   "metadata": {},
   "outputs": [],
   "source": [
    "adversarial_accuracies = default_model_results[\"metrics_result\"][\"art\"][\"adversarial_accuracy\"][\"accuracies\"]\n",
    "perturbation_sizes = default_model_results[\"metrics_result\"][\"art\"][\"adversarial_accuracy\"][\"perturbation_sizes\"]"
   ]
  },
  {
   "cell_type": "code",
   "execution_count": 94,
   "id": "e9f77057-0bad-4707-a67c-f02cc8df43cc",
   "metadata": {},
   "outputs": [
    {
     "data": {
      "text/plain": [
       "0.80145"
      ]
     },
     "execution_count": 94,
     "metadata": {},
     "output_type": "execute_result"
    }
   ],
   "source": [
    "y_pred = model.predict(x=x_train)\n",
    "benign_accuracy = np.mean(np.argmax(y_train, axis=1) == np.argmax(y_pred, axis=1)).item()\n",
    "benign_accuracy"
   ]
  },
  {
   "cell_type": "markdown",
   "id": "f65f1d39-f2e7-4dbc-8358-9e6a13bc440e",
   "metadata": {},
   "source": [
    "#### Plot the adversarial accuracy as a function of attack budget(perturbation size)"
   ]
  },
  {
   "cell_type": "code",
   "execution_count": 95,
   "id": "f045d380-efd4-4d77-9659-926a8470dd83",
   "metadata": {},
   "outputs": [
    {
     "data": {
      "text/plain": [
       "(0.0, 1.05)"
      ]
     },
     "execution_count": 95,
     "metadata": {},
     "output_type": "execute_result"
    },
    {
     "data": {
      "image/png": "[encoded data removed]",
      "text/plain": [
       "<Figure size 432x288 with 1 Axes>"
      ]
     },
     "metadata": {
      "needs_background": "light"
     },
     "output_type": "display_data"
    }
   ],
   "source": [
    "import matplotlib.pyplot as plt\n",
    "\n",
    "plt.plot(perturbation_sizes, adversarial_accuracies, marker=\"o\", label=\"Default Model\")\n",
    "plt.plot([perturbation_sizes[0], perturbation_sizes[-1]], [benign_accuracy, benign_accuracy], linestyle=\"--\", label=\"benign sample\")\n",
    "plt.legend()\n",
    "plt.title(\"Adversarial Accuracy vs Perturbation Size\")\n",
    "plt.xlabel(\"Input Perturbation Size\")\n",
    "plt.ylabel(\"Adversarial Accuracy\")\n",
    "plt.ylim([0, 1.05])"
   ]
  },
  {
   "cell_type": "markdown",
   "id": "cd687bea-db97-4a8a-a593-647d05c6b7c4",
   "metadata": {},
   "source": [
    "The adversarial accuracy, which is the accuracy of the model on adversarial examples, decreases as the size of the adversarial perturbations increases. A model is more robust if it achieves a higher adversarial accuracy for larger perturbations.\n"
   ]
  },
  {
   "cell_type": "markdown",
   "id": "014b7620-a8b7-4c81-9c5f-05474025808d",
   "metadata": {},
   "source": [
    "### Load a robust ML model and generate adversarial accuracy metrics for the robust model"
   ]
  },
  {
   "cell_type": "code",
   "execution_count": null,
   "id": "d23deeb0-536b-4d75-a56c-4646e706f39c",
   "metadata": {},
   "outputs": [],
   "source": [
    "# Load a robust Keras model.\n",
    "import wget\n",
    "from keras.models import load_model\n",
    "\n",
    "!rm mnist_cnn_robust.h5\n",
    "path = wget.download('https://www.dropbox.com/s/yutsncaniiy5uy8/mnist_cnn_robust.h5?dl=1', 'mnist_cnn_robust.h5')\n",
    "\n",
    "robust_classifier_model = load_model(path)"
   ]
  },
  {
   "cell_type": "code",
   "execution_count": 97,
   "id": "17ac1e68-d713-40b8-856e-dca175d09f5c",
   "metadata": {},
   "outputs": [],
   "source": [
    "configuration = {}\n",
    "train_test_data = TrainTestData(x_train=x_train, y_train=y_train)   \n",
    "\n",
    "configuration[\"configuration\"] = {\n",
    "                \"art\":{\n",
    "                    \"metrics_configuration\":{\n",
    "                        \"model\": robust_classifier_model,\n",
    "                        \"model_type\": \"keras\",\n",
    "                        \"input_data_type\": InputDataType.IMAGE.value,\n",
    "                        ARTMetricType.ADVERSARIAL_ACCURACY.value:{\n",
    "                            \"attack_type\": \"whitebox\",\n",
    "                            \"attack_budgets\": [i / 255 for i in range(1, 128, 2)]\n",
    "                            }\n",
    "                        \n",
    "                    }\n",
    "                }\n",
    "            }"
   ]
  },
  {
   "cell_type": "code",
   "execution_count": null,
   "id": "91f3d7de-94ea-4c50-94a0-f819af3e2a67",
   "metadata": {},
   "outputs": [],
   "source": [
    "robust_model_results = client.ai_metrics.compute_metrics(spark=spark, configuration=configuration, data_frame=pd.DataFrame(), train_test_data=train_test_data)"
   ]
  },
  {
   "cell_type": "code",
   "execution_count": 99,
   "id": "97606833-be62-466f-a7a1-f14868420445",
   "metadata": {},
   "outputs": [],
   "source": [
    "robust_adversarial_accuracies = robust_model_results[\"metrics_result\"][\"art\"][\"adversarial_accuracy\"][\"accuracies\"]\n",
    "robust_perturbation_sizes = robust_model_results[\"metrics_result\"][\"art\"][\"adversarial_accuracy\"][\"perturbation_sizes\"]\n",
    "robust_benign_accuracy = np.mean(np.argmax(y_train, axis=1) == np.argmax(robust_classifier_model.predict(x_train), axis=1)).item()"
   ]
  },
  {
   "cell_type": "markdown",
   "id": "47c72af1-11e6-497e-8417-4844e95a85b6",
   "metadata": {},
   "source": [
    "#### Plot the adversarial accuracies "
   ]
  },
  {
   "cell_type": "code",
   "execution_count": 100,
   "id": "4e41dd7b-4e4a-4f23-b74b-aa2723fce691",
   "metadata": {},
   "outputs": [
    {
     "data": {
      "text/plain": [
       "(0.0, 1.05)"
      ]
     },
     "execution_count": 100,
     "metadata": {},
     "output_type": "execute_result"
    },
    {
     "data": {
      "image/png": "[encoded data removed]",
      "text/plain": [
       "<Figure size 432x288 with 1 Axes>"
      ]
     },
     "metadata": {
      "needs_background": "light"
     },
     "output_type": "display_data"
    }
   ],
   "source": [
    "import matplotlib.pyplot as plt\n",
    "\n",
    "plt.plot(perturbation_sizes, adversarial_accuracies, label=\"Default Model\", marker=\"o\", color=\"blue\")\n",
    "plt.plot([perturbation_sizes[0], perturbation_sizes[-1]], [benign_accuracy, benign_accuracy], linestyle=\"--\", label=\"benign sample default model\", color=\"blue\")\n",
    "plt.plot(robust_perturbation_sizes, robust_adversarial_accuracies, label=\"Robust Model\", marker=\"o\", color=\"orange\")\n",
    "plt.plot([perturbation_sizes[0], perturbation_sizes[-1]], [robust_benign_accuracy, robust_benign_accuracy], linestyle=\"--\", label=\"benign sample robust model\", color=\"orange\")\n",
    "plt.legend()\n",
    "plt.xlabel(\"Input perturbation size\")\n",
    "plt.ylabel(\"Adversarial Accuracy\")\n",
    "plt.ylim([0, 1.05])"
   ]
  },
  {
   "cell_type": "markdown",
   "id": "f7da2386-b7d1-421d-9f42-22f5d2194dc1",
   "metadata": {},
   "source": [
    "From the above graph, it can be noticed that the accuracy of the robust model doesn't vary much with the increase in the perturbation size of the white box atack. But beyond a point, the accuracy of the robust model also decreases with increase in the perturbation size.\n"
   ]
  },
  {
   "cell_type": "markdown",
   "id": "f24f990c-3a5a-4d2d-b3d5-0ae6b01fbcc6",
   "metadata": {},
   "source": [
    "### Generate adversarial accuracy using black box attacks"
   ]
  },
  {
   "cell_type": "markdown",
   "id": "4bc03e98-05ee-47da-8eba-083e4baef8e5",
   "metadata": {},
   "source": [
    "Define a scoring function which returns the model's prediction class. This is mandatory for black box attacks."
   ]
  },
  {
   "cell_type": "code",
   "execution_count": null,
   "id": "845357af-4d35-45e4-955c-41f751e3495b",
   "metadata": {},
   "outputs": [],
   "source": [
    "def scoring_fn(x):\n",
    "    res = to_categorical(np.argmax(model.predict(x), axis=1), 10)\n",
    "    return res"
   ]
  },
  {
   "cell_type": "code",
   "execution_count": 101,
   "id": "78cb3907-618e-4679-bed0-a2b3247c42c7",
   "metadata": {},
   "outputs": [],
   "source": [
    "configuration = {}\n",
    "train_test_data = TrainTestData(x_train=x_train, y_train=y_train)   \n",
    "\n",
    "configuration[\"configuration\"] = {\n",
    "                \"art\":{\n",
    "                    \"metrics_configuration\":{\n",
    "                        \"model_type\": \"blackbox\",\n",
    "                        \"input_data_type\": InputDataType.IMAGE.value,\n",
    "                        \"number_of_classes\": 10,\n",
    "                        ARTMetricType.ADVERSARIAL_ACCURACY.value:{\n",
    "                            \"num_samples\": 100,\n",
    "                            \"attack_type\": \"blackbox\"\n",
    "                            }\n",
    "                        \n",
    "                    }\n",
    "                }\n",
    "            }"
   ]
  },
  {
   "cell_type": "code",
   "execution_count": 102,
   "id": "09acefe0-30b0-4f6a-ac7d-23716ba37099",
   "metadata": {},
   "outputs": [
    {
     "data": {
      "application/vnd.jupyter.widget-view+json": {
       "model_id": "fb393012968647ba8758084cb6f6ccd2",
       "version_major": 2,
       "version_minor": 0
      },
      "text/plain": [
       "HopSkipJump:   0%|          | 0/100 [00:00<?, ?it/s]"
      ]
     },
     "metadata": {},
     "output_type": "display_data"
    }
   ],
   "source": [
    "black_box_results = client.ai_metrics.compute_metrics(spark=spark, configuration=configuration, data_frame=pd.DataFrame(), train_test_data=train_test_data, scoring_fn=scoring_fn)\n"
   ]
  },
  {
   "cell_type": "code",
   "execution_count": 103,
   "id": "d25a4604-16f3-49b2-a3e8-ea66a59dddd6",
   "metadata": {},
   "outputs": [],
   "source": [
    "accuracies = black_box_results[\"metrics_result\"][\"art\"][\"adversarial_accuracy\"][\"accuracies\"]\n",
    "perturbation_sizes = black_box_results[\"metrics_result\"][\"art\"][\"adversarial_accuracy\"][\"perturbation_sizes\"]"
   ]
  },
  {
   "cell_type": "markdown",
   "id": "838b1552-bcf6-4cc5-aa77-d8aa52afb0d0",
   "metadata": {},
   "source": [
    "#### Plot the adversarial accuracy vs perturbation size graph"
   ]
  },
  {
   "cell_type": "code",
   "execution_count": 104,
   "id": "75a9b76f-7a4a-49f6-97f3-63023ac79178",
   "metadata": {},
   "outputs": [
    {
     "data": {
      "text/plain": [
       "(0.0, 1.0)"
      ]
     },
     "execution_count": 104,
     "metadata": {},
     "output_type": "execute_result"
    },
    {
     "data": {
      "image/png": "[encoded data removed]",
      "text/plain": [
       "<Figure size 432x288 with 1 Axes>"
      ]
     },
     "metadata": {
      "needs_background": "light"
     },
     "output_type": "display_data"
    }
   ],
   "source": [
    "plt.plot(perturbation_sizes, accuracies, marker=\"o\")\n",
    "\n",
    "plt.xlabel(\"Perturbation size\")\n",
    "plt.ylabel(\"Adversarial Accuracy\")\n",
    "plt.title(\"Untargeted l2\")\n",
    "plt.ylim([0, 1.0])"
   ]
  },
  {
   "cell_type": "markdown",
   "id": "2378c3cc-d0f4-4102-b16d-13e44c420848",
   "metadata": {},
   "source": [
    "It can be observed from the above figure that the adversarial accuracy, computed using black box attacks, reduces as the perturbation size increases."
   ]
  },
  {
   "cell_type": "markdown",
   "id": "efa0b7fb-a06f-47c5-a7ad-96984410f02c",
   "metadata": {},
   "source": [
    "### Compute adversarial accuracy on adversarial examples generated on top of adversarial examples"
   ]
  },
  {
   "cell_type": "markdown",
   "id": "b1815501-c545-4b24-b039-fb68be09a082",
   "metadata": {},
   "source": [
    "In the next cells, we will compute adversarial accuracy on adversarial examples generated on top of adversarial examples. The adversarial examples are close to the decision boundary. Therefore, creating adversarial examples on adversarial examples only requires a very small perturbation to change the prediction.\n",
    "Hence, with minor change in the perturbation, there will be a huge drop in the adversarial accuracy in this case."
   ]
  },
  {
   "cell_type": "code",
   "execution_count": 105,
   "id": "0acb5c40-6cc3-419e-9f1a-8fa8bf885416",
   "metadata": {},
   "outputs": [
    {
     "data": {
      "application/vnd.jupyter.widget-view+json": {
       "model_id": "e709029b3f0e4a65a573c5217ce834c8",
       "version_major": 2,
       "version_minor": 0
      },
      "text/plain": [
       "HopSkipJump:   0%|          | 0/100 [00:00<?, ?it/s]"
      ]
     },
     "metadata": {},
     "output_type": "display_data"
    }
   ],
   "source": [
    "from art.attacks.evasion.hop_skip_jump import HopSkipJump\n",
    "from art.estimators.classification import BlackBoxClassifier\n",
    "\n",
    "# Create art classifier, which is a wrapper on top of the original model\n",
    "art_classifier = BlackBoxClassifier(predict_fn=scoring_fn, input_shape=x_train[0].shape, \n",
    "                                            nb_classes=10, clip_values=(0, 255))\n",
    "\n",
    "# Generate adversarial examples using the HopSkipJump black box attack\n",
    "adv_examples = HopSkipJump(art_classifier).generate(x_train[:100], y=y_train)\n",
    "\n",
    "# Create TrainTestData object with these adversarial examples\n",
    "train_test_data = TrainTestData(x_train=adv_examples, y_train=None)   "
   ]
  },
  {
   "cell_type": "code",
   "execution_count": 106,
   "id": "e7e74422-1ae7-44e0-a845-133776603af2",
   "metadata": {},
   "outputs": [
    {
     "data": {
      "application/vnd.jupyter.widget-view+json": {
       "model_id": "89f5f895aeec4f6da2c9fe28e06cba52",
       "version_major": 2,
       "version_minor": 0
      },
      "text/plain": [
       "HopSkipJump:   0%|          | 0/100 [00:00<?, ?it/s]"
      ]
     },
     "metadata": {},
     "output_type": "display_data"
    }
   ],
   "source": [
    "# Compute the adversarial accuracies on adversarial examples\n",
    "black_box_results_adversarial = client.ai_metrics.compute_metrics(spark=spark, configuration=configuration, data_frame=pd.DataFrame(), \n",
    "                                                                  train_test_data=train_test_data, scoring_fn=scoring_fn)\n",
    "\n",
    "accuracies_adversarial = black_box_results_adversarial[\"metrics_result\"][\"art\"][\"adversarial_accuracy\"][\"accuracies\"]\n",
    "perturbation_sizes_adversarial = black_box_results_adversarial[\"metrics_result\"][\"art\"][\"adversarial_accuracy\"][\"perturbation_sizes\"]\n"
   ]
  },
  {
   "cell_type": "markdown",
   "id": "99faf6f7-b54f-4980-af00-c0561dc317f2",
   "metadata": {},
   "source": [
    "#### Plot the adversarial accuracies vs perturbation size graph for adversarial examples"
   ]
  },
  {
   "cell_type": "code",
   "execution_count": 113,
   "id": "e433fd02-0ff5-40cc-9d57-fb7f702c9dad",
   "metadata": {},
   "outputs": [
    {
     "data": {
      "text/plain": [
       "<matplotlib.legend.Legend at 0x7f7b59927760>"
      ]
     },
     "execution_count": 113,
     "metadata": {},
     "output_type": "execute_result"
    },
    {
     "data": {
      "image/png": "[encoded data removed]",
      "text/plain": [
       "<Figure size 432x288 with 1 Axes>"
      ]
     },
     "metadata": {
      "needs_background": "light"
     },
     "output_type": "display_data"
    }
   ],
   "source": [
    "plt.plot(perturbation_sizes, accuracies, marker=\"o\", label=\"adversarial examples\")\n",
    "plt.plot(perturbation_sizes_adversarial, accuracies_adversarial, marker=\"o\", label=\"adversarial adversarial examples\")\n",
    "\n",
    "plt.xlabel(\"perturbation sizes\")\n",
    "plt.ylabel(\"Adversarial Accuracy\")\n",
    "plt.title(\"Untargeted l2\")\n",
    "plt.ylim([0, 1.0])\n",
    "plt.legend()"
   ]
  },
  {
   "cell_type": "markdown",
   "id": "5f7d8a6b-8a74-4dd7-ace6-4aa8bdd8f781",
   "metadata": {},
   "source": [
    "The orange line in the above plot represents the adversarial accuracy vs perturbation size graph for the adversarial examples generated on adversarial examples. The adversarial accuracy quickly drops for the curve with a minimal change in perturbation size."
   ]
  },
  {
   "cell_type": "markdown",
   "id": "6a3e7009-7d3b-481a-ae8b-c11d09b5b077",
   "metadata": {},
   "source": [
    "In the next cell, we will make a mix of adversarial examples and adversarial examples generated on these advesarial examples to simulate the case where only half of the payloads are attacked."
   ]
  },
  {
   "cell_type": "code",
   "execution_count": 126,
   "id": "9b42730d-bf87-47b5-aaa7-53b61cfb9e5d",
   "metadata": {},
   "outputs": [
    {
     "data": {
      "application/vnd.jupyter.widget-view+json": {
       "model_id": "56c17cc234d24b65a1534c2e21a809d4",
       "version_major": 2,
       "version_minor": 0
      },
      "text/plain": [
       "HopSkipJump:   0%|          | 0/100 [00:00<?, ?it/s]"
      ]
     },
     "metadata": {},
     "output_type": "display_data"
    }
   ],
   "source": [
    "# Create TrainTestData object with a mix of adversarial examples and normal samples from the training data\n",
    "mixed_sample = np.concatenate([adv_examples[:50], x_train[:50]])\n",
    "train_test_data = TrainTestData(x_train=mixed_sample, y_train=None)   \n",
    "\n",
    "# Compute the adversarial accuracies on adversarial examples\n",
    "black_box_results_adversarial = client.ai_metrics.compute_metrics(spark=spark, configuration=configuration, data_frame=pd.DataFrame(), \n",
    "                                                                  train_test_data=train_test_data, scoring_fn=scoring_fn)\n",
    "\n",
    "accuracies_mixed = black_box_results_adversarial[\"metrics_result\"][\"art\"][\"adversarial_accuracy\"][\"accuracies\"]\n",
    "perturbation_sizes_mixed = black_box_results_adversarial[\"metrics_result\"][\"art\"][\"adversarial_accuracy\"][\"perturbation_sizes\"]"
   ]
  },
  {
   "cell_type": "code",
   "execution_count": 127,
   "id": "c82b194e-ca74-4a20-a578-936b2a144594",
   "metadata": {},
   "outputs": [
    {
     "data": {
      "text/plain": [
       "(0.0, 1.05)"
      ]
     },
     "execution_count": 127,
     "metadata": {},
     "output_type": "execute_result"
    },
    {
     "data": {
      "image/png": "[encoded data removed]",
      "text/plain": [
       "<Figure size 432x288 with 1 Axes>"
      ]
     },
     "metadata": {
      "needs_background": "light"
     },
     "output_type": "display_data"
    },
    {
     "name": "stdout",
     "output_type": "stream",
     "text": [
      "23/09/30 12:52:00 WARN HeartbeatReceiver: Removing executor driver with no recent heartbeats: 6480341 ms exceeds timeout 120000 ms\n",
      "23/09/30 12:52:00 WARN SparkContext: Killing executors is not supported by current scheduler.\n"
     ]
    }
   ],
   "source": [
    "plt.plot(perturbation_sizes_mixed, accuracies_mixed, marker=\"o\")\n",
    "\n",
    "plt.xlabel(\"perturbation sizes\")\n",
    "plt.ylabel(\"Adversarial Accuracy\")\n",
    "plt.title(\"Untargeted l2\")\n",
    "plt.ylim([0, 1.05])"
   ]
  },
  {
   "cell_type": "markdown",
   "id": "ac642695-3dff-481a-bc60-a2186afff3b2",
   "metadata": {},
   "source": [
    "As per the above plot, it can be observed that the bigger the initial drop in accuracy, the bigger the adversarial examples in the payload."
   ]
  },
  {
   "cell_type": "markdown",
   "id": "71e6733d-7b56-4da3-a18c-3234bccd8a50",
   "metadata": {},
   "source": [
    "Authors: Beat Buesser (beat.buesser@ibm.com), Neelima R Gade (neelgade@in.ibm.com)"
   ]
  }
 ],
 "metadata": {
  "kernelspec": {
   "display_name": "Python 3 (ipykernel)",
   "language": "python",
   "name": "python3"
  },
  "language_info": {
   "codemirror_mode": {
    "name": "ipython",
    "version": 3
   },
   "file_extension": ".py",
   "mimetype": "text/x-python",
   "name": "python",
   "nbconvert_exporter": "python",
   "pygments_lexer": "ipython3",
   "version": "3.9.7"
  }
 },
 "nbformat": 4,
 "nbformat_minor": 5
}
