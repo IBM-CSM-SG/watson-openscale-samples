{
 "cells": [
  {
   "cell_type": "markdown",
   "metadata": {},
   "source": [
    "# Credit model with Azure Service and scikit-learn"
   ]
  },
  {
   "cell_type": "markdown",
   "metadata": {},
   "source": [
    "### Contents\n",
    "\n",
    " 1. Setup\n",
    " 1. Test the sample model locally\n",
    " 1. Register the model to your Azure workspace\n",
    " 1. Deploy the model as Webservice\n",
    " 1. Test the deployed model"
   ]
  },
  {
   "cell_type": "markdown",
   "metadata": {},
   "source": [
    "**Note:** Sample model was created using scikit-learn version: `0.20.2`. Model predicts if there is a risk for credit."
   ]
  },
  {
   "cell_type": "markdown",
   "metadata": {},
   "source": [
    "## 1. Setup"
   ]
  },
  {
   "cell_type": "markdown",
   "metadata": {},
   "source": [
    "### Install required packages"
   ]
  },
  {
   "cell_type": "code",
   "execution_count": 46,
   "metadata": {
    "tags": []
   },
   "outputs": [
    {
     "name": "stdout",
     "output_type": "stream",
     "text": [
      "\u001b[31mmlxtend 0.17.2 has requirement scikit-learn>=0.20.3, but you'll have scikit-learn 0.20.2 which is incompatible.\u001b[0m\n",
      "\u001b[31mimbalanced-learn 0.6.2 has requirement scikit-learn>=0.22, but you'll have scikit-learn 0.20.2 which is incompatible.\u001b[0m\n",
      "\u001b[31mibm-wos-utils 1.2.4 has requirement tqdm==4.32.1, but you'll have tqdm 4.51.0 which is incompatible.\u001b[0m\n",
      "\u001b[31mibm-wos-utils-rsalehin 1.0.0 has requirement tqdm==4.32.1, but you'll have tqdm 4.51.0 which is incompatible.\u001b[0m\n",
      "\u001b[31mautoai-libs 1.10.10 has requirement scikit-learn==0.20.3, but you'll have scikit-learn 0.20.2 which is incompatible.\u001b[0m\n",
      "\u001b[31massistant-dialog-skill-analysis 1.1.0 has requirement scikit-learn>=0.21, but you'll have scikit-learn 0.20.2 which is incompatible.\u001b[0m\n",
      "Successfully installed scikit-learn-0.20.2\n",
      "Requirement already satisfied, skipping upgrade: oauthlib>=3.0.0 in /Applications/anaconda3/lib/python3.7/site-packages (from requests-oauthlib>=0.5.0->msrest>=0.5.1->azureml-core) (3.1.0)\n"
     ]
    }
   ],
   "source": [
    "!pip install --upgrade scikit-learn==0.20.2 | tail -n 1\n",
    "!pip install --upgrade azureml-core  | tail -n 1"
   ]
  },
  {
   "cell_type": "markdown",
   "metadata": {},
   "source": [
    "### Action: Restart the kernel"
   ]
  },
  {
   "cell_type": "markdown",
   "metadata": {},
   "source": [
    "### Get sample model"
   ]
  },
  {
   "cell_type": "code",
   "execution_count": 21,
   "metadata": {
    "tags": []
   },
   "outputs": [
    {
     "name": "stdout",
     "output_type": "stream",
     "text": [
      "--2020-11-03 16:26:13--  https://github.com/IBM/watson-openscale-samples/blob/main/assets/models/credit_risk/german_credit_risk.joblib?raw=true\n",
      "Resolving github.com (github.com)... 140.82.112.4\n",
      "Connecting to github.com (github.com)|140.82.112.4|:443... connected.\n",
      "HTTP request sent, awaiting response... 302 Found\n",
      "Location: https://github.com/IBM/watson-openscale-samples/raw/main/assets/models/credit_risk/german_credit_risk.joblib [following]\n",
      "--2020-11-03 16:26:13--  https://github.com/IBM/watson-openscale-samples/raw/main/assets/models/credit_risk/german_credit_risk.joblib\n",
      "Reusing existing connection to github.com:443.\n",
      "HTTP request sent, awaiting response... 302 Found\n",
      "Location: https://raw.githubusercontent.com/IBM/watson-openscale-samples/main/assets/models/credit_risk/german_credit_risk.joblib [following]\n",
      "--2020-11-03 16:26:14--  https://raw.githubusercontent.com/IBM/watson-openscale-samples/main/assets/models/credit_risk/german_credit_risk.joblib\n",
      "Resolving raw.githubusercontent.com (raw.githubusercontent.com)... 151.101.124.133\n",
      "Connecting to raw.githubusercontent.com (raw.githubusercontent.com)|151.101.124.133|:443... connected.\n",
      "HTTP request sent, awaiting response... 200 OK\n",
      "Length: 187701 (183K) [application/octet-stream]\n",
      "Saving to: ‘german_credit_risk.joblib’\n",
      "\n",
      "german_credit_risk. 100%[===================>] 183.30K  --.-KB/s    in 0.06s   \n",
      "\n",
      "2020-11-03 16:26:14 (2.92 MB/s) - ‘german_credit_risk.joblib’ saved [187701/187701]\n",
      "\n"
     ]
    }
   ],
   "source": [
    "!rm -rf german_credit_risk_20.joblib\n",
    "!wget -O german_credit_risk_20.joblib https://github.com/IBM/watson-openscale-samples/blob/main/assets/models/credit_risk/german_credit_risk_20.joblib?raw=true"
   ]
  },
  {
   "cell_type": "markdown",
   "metadata": {},
   "source": [
    "### Load model from local file"
   ]
  },
  {
   "cell_type": "code",
   "execution_count": 1,
   "metadata": {},
   "outputs": [],
   "source": [
    "import os\n",
    "from sklearn.externals import joblib"
   ]
  },
  {
   "cell_type": "code",
   "execution_count": 2,
   "metadata": {},
   "outputs": [],
   "source": [
    "model_name = \"german_credit_risk\"\n",
    "model_path = \"german_credit_risk_20.joblib\" #\"german_credit_risk.joblib\"\n",
    "\n",
    "clf = joblib.load(os.path.join(os.getcwd(), model_path))"
   ]
  },
  {
   "cell_type": "markdown",
   "metadata": {},
   "source": [
    "## 2. Test the sample model locally"
   ]
  },
  {
   "cell_type": "code",
   "execution_count": 3,
   "metadata": {},
   "outputs": [],
   "source": [
    "import numpy as np\n",
    "import pandas as pd\n",
    "from sklearn.metrics import accuracy_score"
   ]
  },
  {
   "cell_type": "markdown",
   "metadata": {},
   "source": [
    "### Load test data"
   ]
  },
  {
   "cell_type": "code",
   "execution_count": 4,
   "metadata": {
    "tags": []
   },
   "outputs": [
    {
     "name": "stdout",
     "output_type": "stream",
     "text": [
      "--2020-11-03 16:45:30--  https://raw.githubusercontent.com/IBM/watson-openscale-samples/main/assets/data/credit_risk/credit_risk_training.csv\n",
      "Resolving raw.githubusercontent.com (raw.githubusercontent.com)... 151.101.124.133\n",
      "Connecting to raw.githubusercontent.com (raw.githubusercontent.com)|151.101.124.133|:443... connected.\n",
      "HTTP request sent, awaiting response... 200 OK\n",
      "Length: 694222 (678K) [text/plain]\n",
      "Saving to: ‘credit_risk_training.csv’\n",
      "\n",
      "credit_risk_trainin 100%[===================>] 677.95K  --.-KB/s    in 0.1s    \n",
      "\n",
      "2020-11-03 16:45:31 (5.41 MB/s) - ‘credit_risk_training.csv’ saved [694222/694222]\n",
      "\n"
     ]
    }
   ],
   "source": [
    "!rm -rf credit_risk_training.csv\n",
    "!wget https://raw.githubusercontent.com/IBM/watson-openscale-samples/main/assets/data/credit_risk/credit_risk_training.csv"
   ]
  },
  {
   "cell_type": "code",
   "execution_count": 5,
   "metadata": {},
   "outputs": [],
   "source": [
    "data_df = pd.read_csv(\"credit_risk_training.csv\",dtype={'LoanDuration': int, 'LoanAmount': int, 'InstallmentPercent': int, 'CurrentResidenceDuration': int, \n",
    "                              'Age': int, 'ExistingCreditsCount': int, 'Dependents': int})\n",
    "test_data = data_df\n",
    "test_data = test_data.drop('Risk', axis=1)"
   ]
  },
  {
   "cell_type": "markdown",
   "metadata": {},
   "source": [
    "### Predict on test data"
   ]
  },
  {
   "cell_type": "code",
   "execution_count": 7,
   "metadata": {
    "tags": []
   },
   "outputs": [
    {
     "name": "stdout",
     "output_type": "stream",
     "text": [
      "Model accuracy: 0.778\n"
     ]
    }
   ],
   "source": [
    "predictions = clf['postprocessing'](clf['model'].predict(test_data))\n",
    "\n",
    "print(\"Model accuracy: {:.3f}\".format(accuracy_score(data_df.Risk, predictions)))"
   ]
  },
  {
   "cell_type": "markdown",
   "metadata": {},
   "source": [
    "## 3. Register the model to your Azure workspace"
   ]
  },
  {
   "cell_type": "code",
   "execution_count": 8,
   "metadata": {
    "tags": []
   },
   "outputs": [
    {
     "name": "stderr",
     "output_type": "stream",
     "text": [
      "Failure while loading azureml_run_type_providers. Failed to load entrypoint hyperdrive = azureml.train.hyperdrive:HyperDriveRun._from_run_dto with exception (azureml-core 1.17.0 (/Applications/anaconda3/lib/python3.7/site-packages), Requirement.parse('azureml-core==1.0.74.*')).\n",
      "Failure while loading azureml_run_type_providers. Failed to load entrypoint azureml.PipelineRun = azureml.pipeline.core.run:PipelineRun._from_dto with exception (azureml-core 1.17.0 (/Applications/anaconda3/lib/python3.7/site-packages), Requirement.parse('azureml-core==1.0.74.*')).\n",
      "Failure while loading azureml_run_type_providers. Failed to load entrypoint azureml.ReusedStepRun = azureml.pipeline.core.run:StepRun._from_reused_dto with exception (azureml-core 1.17.0 (/Applications/anaconda3/lib/python3.7/site-packages), Requirement.parse('azureml-core==1.0.74.*')).\n",
      "Failure while loading azureml_run_type_providers. Failed to load entrypoint azureml.StepRun = azureml.pipeline.core.run:StepRun._from_dto with exception (azureml-core 1.17.0 (/Applications/anaconda3/lib/python3.7/site-packages), Requirement.parse('azureml-core==1.0.74.*')).\n"
     ]
    }
   ],
   "source": [
    "import os\n",
    "from azureml.core import Workspace\n",
    "from azureml.core.model import Model\n",
    "from azureml.core.authentication import InteractiveLoginAuthentication"
   ]
  },
  {
   "cell_type": "markdown",
   "metadata": {},
   "source": [
    "Please provide your Azure ML Service credentials."
   ]
  },
  {
   "cell_type": "code",
   "execution_count": 9,
   "metadata": {},
   "outputs": [],
   "source": [
    "az_ml_service_credentials = {'tenant_id': 'fcf67057-50c9-4ad4-98f3-ffca64add9e9',\n",
    "                             'subscription_id': '744bca72-2299-451c-b682-ed6fb75fb671', \n",
    "                             'resource_group': 'ai-ops-squad',\n",
    "                             'workspace_name': 'wos-ws'}"
   ]
  },
  {
   "cell_type": "code",
   "execution_count": 10,
   "metadata": {
    "tags": []
   },
   "outputs": [],
   "source": [
    "interactive_auth = InteractiveLoginAuthentication(tenant_id=az_ml_service_credentials['tenant_id'])\n",
    "\n",
    "ws = Workspace(subscription_id=az_ml_service_credentials['subscription_id'], \n",
    "               resource_group=az_ml_service_credentials['resource_group'], \n",
    "               workspace_name=az_ml_service_credentials['workspace_name'], \n",
    "               auth=interactive_auth)"
   ]
  },
  {
   "cell_type": "code",
   "execution_count": 11,
   "metadata": {},
   "outputs": [],
   "source": [
    "ws.write_config()"
   ]
  },
  {
   "cell_type": "code",
   "execution_count": 12,
   "metadata": {},
   "outputs": [
    {
     "name": "stdout",
     "output_type": "stream",
     "text": [
      "Workspace name: wos-ws\n",
      "Azure region: southcentralus\n",
      "Subscription id: 744bca72-2299-451c-b682-ed6fb75fb671\n",
      "Resource group: ai-ops-squad\n"
     ]
    }
   ],
   "source": [
    "ws = Workspace.from_config()\n",
    "print('Workspace name: ' + ws.name, \n",
    "      'Azure region: ' + ws.location, \n",
    "      'Subscription id: ' + ws.subscription_id, \n",
    "      'Resource group: ' + ws.resource_group, sep='\\n')"
   ]
  },
  {
   "cell_type": "code",
   "execution_count": 14,
   "metadata": {},
   "outputs": [
    {
     "name": "stdout",
     "output_type": "stream",
     "text": [
      "scoring endpoint credit-risk-rsalehin\n",
      "scoring endpoint credit-risk-rsalehin-wrapper1\n"
     ]
    }
   ],
   "source": [
    "from azureml.core.webservice import AciWebservice\n",
    "\n",
    "credit_risk_deployment_name = 'credit-risk-prediction'\n",
    "credit_risk_scoring_endpoint = None\n",
    "\n",
    "webservices = AciWebservice.list(ws)\n",
    "for service in webservices:\n",
    "    print('scoring endpoint', service.name)"
   ]
  },
  {
   "cell_type": "code",
   "execution_count": 16,
   "metadata": {},
   "outputs": [
    {
     "name": "stdout",
     "output_type": "stream",
     "text": [
      "Registering model german_credit_risk\n",
      "Name: german_credit_risk\n",
      "Version: 11\n"
     ]
    }
   ],
   "source": [
    "from azureml.core import Model\n",
    "from azureml.core.resource_configuration import ResourceConfiguration\n",
    "\n",
    "\n",
    "model = Model.register(workspace=ws,\n",
    "                       model_name=model_name,                # Name of the registered model in your workspace.\n",
    "                       model_path=model_path,                # Local file to upload and register as a model.\n",
    "                       model_framework=Model.Framework.SCIKITLEARN,  # Framework used to create the model.\n",
    "                       model_framework_version='0.20.3',             # Version of scikit-learn used to create the model.\n",
    "                       resource_configuration=ResourceConfiguration(cpu=1, memory_in_gb=0.5),\n",
    "                       description='credit risk sample scikit model from Watson Studio',\n",
    "                       tags={'area': 'german_credit_risk', 'type': 'classification'})\n",
    "\n",
    "print('Name:', model.name)\n",
    "print('Version:', model.version)"
   ]
  },
  {
   "cell_type": "markdown",
   "metadata": {},
   "source": [
    "## 4. Deploy the model as Webservice"
   ]
  },
  {
   "cell_type": "markdown",
   "metadata": {},
   "source": [
    "Model deploymen consist of following steps:\n",
    "\n",
    " - Create scoring script\n",
    " - Create environment file\n",
    " - Create configuration file\n",
    " - Deploy model in ACI"
   ]
  },
  {
   "cell_type": "markdown",
   "metadata": {},
   "source": [
    "### Create scoring script\n",
    "\n",
    "Scoring script must include two required functions:\n",
    "\n",
    " - The `init()` function, which typically loads the model into a global object. This function is run only once.\n",
    " - The `run(input_data)` function uses the model to predict a value based on the input data."
   ]
  },
  {
   "cell_type": "code",
   "execution_count": 17,
   "metadata": {
    "tags": []
   },
   "outputs": [
    {
     "name": "stdout",
     "output_type": "stream",
     "text": [
      "Overwriting score_azure.py\n"
     ]
    }
   ],
   "source": [
    "%%writefile score_azure.py\n",
    "import os\n",
    "import json\n",
    "import numpy as np\n",
    "import pandas as pd\n",
    "from sklearn.externals import joblib\n",
    "from sklearn.linear_model import LogisticRegression\n",
    "from azureml.core.model import Model\n",
    "\n",
    "def init():\n",
    "    global model\n",
    "    model_path = Model.get_model_path('german_credit_risk')\n",
    "    #model_path = os.path.join(os.getenv('AZUREML_MODEL_DIR'), 'german_credit_risk.joblib')\n",
    "    model = joblib.load(model_path)\n",
    "\n",
    "def run(input_data):\n",
    "    try:\n",
    "        if type(input_data) is str:\n",
    "            dict_data = json.loads(input_data)\n",
    "        else:\n",
    "            dict_data = input_data\n",
    "            \n",
    "        data = pd.DataFrame.from_dict(dict_data['input'])   \n",
    "        predictions = model['postprocessing'](model['model'].predict(data))\n",
    "        scores = model['model'].predict_proba(data).tolist()\n",
    "        records = []\n",
    "        \n",
    "        for pred, prob in zip(predictions, scores):\n",
    "            records.append({\"Scored Labels\": pred, \"Scored Probabilities\": prob})\n",
    " \n",
    "        result = {'output': records}\n",
    "        \n",
    "        return json.dumps(result)\n",
    "    except Exception as e:\n",
    "        result = str(e)\n",
    "        # return error message back to the client\n",
    "        return json.dumps({\"error\": result})"
   ]
  },
  {
   "cell_type": "markdown",
   "metadata": {},
   "source": [
    "### Create environment file\n",
    "\n",
    "Create an environment file that specifies all of the script's package dependencies."
   ]
  },
  {
   "cell_type": "code",
   "execution_count": 18,
   "metadata": {
    "tags": [
     "set conda dependencies"
    ]
   },
   "outputs": [],
   "source": [
    "from azureml.core.conda_dependencies import CondaDependencies \n",
    "from azureml.core import Environment\n",
    "\n",
    "environment = Environment('my-sklearn-environment')\n",
    "\n",
    "environment.python.conda_dependencies = CondaDependencies.create(pip_packages=[\n",
    "    'azureml-defaults',\n",
    "    'joblib',\n",
    "    'numpy',\n",
    "    'scikit-learn==0.20.3'\n",
    "])\n"
   ]
  },
  {
   "cell_type": "markdown",
   "metadata": {},
   "source": [
    "### Create configuration file\n",
    "\n",
    "Create a deployment configuration file and specify the number of CPUs and gigabyte of RAM needed for your ACI container."
   ]
  },
  {
   "cell_type": "code",
   "execution_count": 55,
   "metadata": {
    "tags": [
     "configure web service",
     "aci"
    ]
   },
   "outputs": [],
   "source": [
    "from azureml.core.webservice import AciWebservice\n",
    "\n",
    "\n",
    "aci_config = AciWebservice.deploy_configuration(cpu_cores=0.5, memory_gb=0.5\n",
    "                                                ,tags={\"data\": \"german_credit_risk\",  \"method\" : \"sklearn\"}, \n",
    "                                               description='Predict Credit Risk with sklearn from Watson Studio')"
   ]
  },
  {
   "cell_type": "markdown",
   "metadata": {},
   "source": [
    "### Deploy in ACI"
   ]
  },
  {
   "cell_type": "markdown",
   "metadata": {},
   "source": [
    "Configure the image and deploy it with following steps:\n",
    "\n",
    " - Build an image\n",
    " - Register that image under the workspace\n",
    " - Send the image to the ACI container\n",
    " - Start up a container in ACI using the image\n",
    " - Get the web service HTTP endpoint"
   ]
  },
  {
   "cell_type": "markdown",
   "metadata": {},
   "source": [
    "**Note:** Estimated time to complete: **about 7-8 minutes**."
   ]
  },
  {
   "cell_type": "code",
   "execution_count": 20,
   "metadata": {
    "tags": []
   },
   "outputs": [
    {
     "name": "stdout",
     "output_type": "stream",
     "text": [
      "Tips: You can try get_logs(): https://aka.ms/debugimage#dockerlog or local deployment: https://aka.ms/debugimage#debug-locally to debug if deployment takes longer than 10 minutes.\n",
      "Running............................................................................\n",
      "Succeeded\n",
      "ACI service creation operation finished, operation \"Succeeded\"\n",
      "CPU times: user 533 ms, sys: 94.9 ms, total: 628 ms\n",
      "Wall time: 6min 54s\n"
     ]
    }
   ],
   "source": [
    "%%time\n",
    "from azureml.core.webservice import Webservice\n",
    "from azureml.core.model import InferenceConfig\n",
    "from azureml.core.image import ContainerImage\n",
    "\n",
    "\n",
    "service_name = 'credit-risk-rsalehin'\n",
    "\n",
    "# Remove any existing service under the same name.\n",
    "try:\n",
    "    Webservice(ws, service_name).delete()\n",
    "except WebserviceException:\n",
    "    pass\n",
    "\n",
    "inference_config = InferenceConfig(entry_script='score_azure.py', environment=environment)\n",
    "\n",
    "service = Model.deploy(workspace=ws,\n",
    "                       name=service_name,\n",
    "                       models=[model],\n",
    "                       inference_config=inference_config,\n",
    "                       deployment_config=aci_config,\n",
    "                       overwrite=True)\n",
    "service.wait_for_deployment(show_output=True)"
   ]
  },
  {
   "cell_type": "code",
   "execution_count": 57,
   "metadata": {
    "scrolled": false
   },
   "outputs": [
    {
     "name": "stdout",
     "output_type": "stream",
     "text": [
      "scoring endpoint http://4931176f-9943-46a2-857f-dd355d52914a.southcentralus.azurecontainer.io/score\n"
     ]
    }
   ],
   "source": [
    "from azureml.core.webservice import AciWebservice\n",
    "\n",
    "credit_risk_deployment_name = service_name\n",
    "credit_risk_scoring_endpoint = None\n",
    "\n",
    "webservices = AciWebservice.list(ws)\n",
    "for service in webservices:\n",
    "    if service.name == credit_risk_deployment_name:\n",
    "        credit_risk_scoring_endpoint = service.scoring_uri\n",
    "        \n",
    "print('scoring endpoint', credit_risk_scoring_endpoint)"
   ]
  },
  {
   "cell_type": "markdown",
   "metadata": {},
   "source": [
    "## 5. Test deployed model"
   ]
  },
  {
   "cell_type": "markdown",
   "metadata": {},
   "source": [
    "### Prepare scoring payload"
   ]
  },
  {
   "cell_type": "code",
   "execution_count": 43,
   "metadata": {},
   "outputs": [],
   "source": [
    "scoring_data = {\"input\":[\n",
    "                {\n",
    "                \"CheckingStatus\": \"0_to_200\", \"LoanDuration\": 31, \"CreditHistory\": \"credits_paid_to_date\", \"LoanPurpose\": \"other\",\n",
    "                \"LoanAmount\": 1889, \"ExistingSavings\": \"100_to_500\", \"EmploymentDuration\": \"less_1\", \"InstallmentPercent\": 3, \"Sex\": \"female\",\n",
    "                \"OthersOnLoan\": \"none\", \"CurrentResidenceDuration\": 3, \"OwnsProperty\": \"savings_insurance\", \"Age\": 32, \"InstallmentPlans\": \"none\",\n",
    "                \"Housing\": \"own\", \"ExistingCreditsCount\": 1, \"Job\": \"skilled\", \"Dependents\": 1, \"Telephone\": \"none\", \"ForeignWorker\": \"yes\",\n",
    "                },\n",
    "                {\n",
    "                \"CheckingStatus\": \"no_checking\", \"LoanDuration\": 13, \"CreditHistory\": \"credits_paid_to_date\", \"LoanPurpose\": \"car_new\",\n",
    "                \"LoanAmount\": 1389, \"ExistingSavings\": \"100_to_500\", \"EmploymentDuration\": \"1_to_4\", \"InstallmentPercent\": 2, \"Sex\": \"male\",\n",
    "                \"OthersOnLoan\": \"none\", \"CurrentResidenceDuration\": 3, \"OwnsProperty\": \"savings_insurance\", \"Age\": 25, \"InstallmentPlans\": \"none\",\n",
    "                \"Housing\": \"own\", \"ExistingCreditsCount\": 2, \"Job\": \"skilled\", \"Dependents\": 2, \"Telephone\": \"none\", \"ForeignWorker\": \"yes\",\n",
    "                }]}"
   ]
  },
  {
   "cell_type": "markdown",
   "metadata": {},
   "source": [
    "### Send scoring request using an HTTP request"
   ]
  },
  {
   "cell_type": "code",
   "execution_count": 51,
   "metadata": {},
   "outputs": [
    {
     "data": {
      "text/plain": [
       "'{\"output\": [{\"Scored Labels\": \"No Risk\", \"Scored Probabilities\": [0.8922524675865824, 0.10774753241341757]}, {\"Scored Labels\": \"No Risk\", \"Scored Probabilities\": [0.8335192848546905, 0.1664807151453095]}]}'"
      ]
     },
     "execution_count": 51,
     "metadata": {},
     "output_type": "execute_result"
    }
   ],
   "source": [
    "import requests\n",
    "headers = {\"Content-Type\": \"application/json\"}\n",
    "resp = requests.post(credit_risk_scoring_endpoint, json=scoring_data, headers=headers)\n",
    "resp.json()"
   ]
  },
  {
   "cell_type": "markdown",
   "metadata": {},
   "source": [
    "### Next we will integrate this deployment with OpenScale an use wrapper for payload logging"
   ]
  },
  {
   "cell_type": "code",
   "execution_count": null,
   "metadata": {},
   "outputs": [],
   "source": []
  }
 ],
 "metadata": {
  "authors": [
   {
    "name": "roastala"
   }
  ],
  "kernelspec": {
   "display_name": "Python 3",
   "language": "python",
   "name": "python3"
  },
  "language_info": {
   "codemirror_mode": {
    "name": "ipython",
    "version": 3
   },
   "file_extension": ".py",
   "mimetype": "text/x-python",
   "name": "python",
   "nbconvert_exporter": "python",
   "pygments_lexer": "ipython3",
   "version": "3.7.3"
  },
  "msauthor": "sgilley",
  "varInspector": {
   "cols": {
    "lenName": 16,
    "lenType": 16,
    "lenVar": 40
   },
   "kernels_config": {
    "python": {
     "delete_cmd_postfix": "",
     "delete_cmd_prefix": "del ",
     "library": "var_list.py",
     "varRefreshCmd": "print(var_dic_list())"
    },
    "r": {
     "delete_cmd_postfix": ") ",
     "delete_cmd_prefix": "rm(",
     "library": "var_list.r",
     "varRefreshCmd": "cat(var_dic_list()) "
    }
   },
   "types_to_exclude": [
    "module",
    "function",
    "builtin_function_or_method",
    "instance",
    "_Feature"
   ],
   "window_display": false
  }
 },
 "nbformat": 4,
 "nbformat_minor": 2
}
